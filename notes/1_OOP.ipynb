{
 "cells": [
  {
   "cell_type": "markdown",
   "id": "924510de-73e6-480d-b450-0310db2df9ea",
   "metadata": {},
   "source": [
    "## <center> 1. OOP INTRO — WHAT IS A CLASS? WHAT MAKES UP A CLASS?</center>"
   ]
  },
  {
   "cell_type": "markdown",
   "id": "0575a818-a97d-4a53-b917-eaeb427f8895",
   "metadata": {},
   "source": [
    "### <center>**OOP in Python — Object Oreinted Programming (making your own applications and data types)**</center>\n",
    "\n",
    "### <u>OOP concepts:</u>\n",
    "\n",
    "<div>\n",
    "    <ul>\n",
    "        <li>class</li>\n",
    "        <li>object</li>\n",
    "        <li>abstraction</li>\n",
    "        <li>inhertiance</li>\n",
    "        <li>encapsulation</li>\n",
    "        <li>polymorphism</li>\n",
    "    </ul>\n",
    "</div>"
   ]
  },
  {
   "cell_type": "markdown",
   "id": "83498ce6-0159-4d0f-9e2d-b06aec910003",
   "metadata": {},
   "source": [
    "## Abstraction\n",
    "\n",
    "Imagine you're building a robot. Abstraction is like building the robot with buttons and switches on the outside, but all the complicated wiring and circuits are hidden inside.\n",
    "\n",
    "So, when someone wants to use the robot, they only need to know how to press the buttons and flip the switches. They don't need to understand how everything works inside. That's abstraction in action! It hides the complex stuff and shows only what's necessary for using the robot."
   ]
  },
  {
   "cell_type": "markdown",
   "id": "fbc16dca-4d30-4f0d-be05-17042be20998",
   "metadata": {},
   "source": [
    "## Objects\n",
    "-  are the core entities that represent data\n",
    "-  when you create a variable in Python and assign it a value, you're essentially creating an object"
   ]
  },
  {
   "cell_type": "markdown",
   "id": "85080a67-21f6-4905-80ce-9cea923b37f2",
   "metadata": {},
   "source": [
    "#### Examples:"
   ]
  },
  {
   "cell_type": "code",
   "execution_count": 2,
   "id": "ef0b759e-4de0-4395-a455-8d2f1cbaf935",
   "metadata": {},
   "outputs": [
    {
     "data": {
      "text/plain": [
       "int"
      ]
     },
     "execution_count": 2,
     "metadata": {},
     "output_type": "execute_result"
    }
   ],
   "source": [
    "a = 2 # a is an object\n",
    "type(a)"
   ]
  },
  {
   "cell_type": "code",
   "execution_count": 1,
   "id": "597c163f-2af6-4ecb-82ad-0dd10591538e",
   "metadata": {},
   "outputs": [
    {
     "data": {
      "text/plain": [
       "[1, 2, 3, 4, 2]"
      ]
     },
     "execution_count": 1,
     "metadata": {},
     "output_type": "execute_result"
    }
   ],
   "source": [
    "L = [1,2,3,4] # L is an object\n",
    "L.append(2) # append is the method of that class\n",
    "L"
   ]
  },
  {
   "cell_type": "markdown",
   "id": "be664b86-c4ed-4cc1-bf32-f3c7c8e36b99",
   "metadata": {},
   "source": [
    "## **Brief Intro To Classes:** \n",
    "\n",
    "- Datatypes are classes in python \n",
    "- when you make a variable for that data type --> that's an object of that class\n",
    "\n",
    "## **Class:**\n",
    "- data or property\n",
    "- functions or behavior\n",
    "- their name are always in a pascal case, ex. Car, FoodBank, Calculator\n"
   ]
  },
  {
   "attachments": {},
   "cell_type": "markdown",
   "id": "7f607c1f-8af2-4f1d-a53a-85a9bb7a5cab",
   "metadata": {},
   "source": [
    "<div style=\"text-align:center;\">\n",
    "    <img src=\"https://www.differencebetween.info/sites/default/files/images/4/cl.jpg\" alt=\"Description of image\" style=\"width:500px;height:300px;\"/>\n",
    "</div>"
   ]
  },
  {
   "cell_type": "markdown",
   "id": "090b2089-b6c8-4cbb-9a3d-346e4cd3b547",
   "metadata": {},
   "source": [
    "This is a blue print of a class called **Student**. The attributes or data inside the class are **private**, which means that **they are not accesable to the user who is using that class**. The methods inside the class are **public**, which means **they are accesible to the user to freely use when using the class**. "
   ]
  },
  {
   "cell_type": "markdown",
   "id": "0dcea1fe-73cd-4a8d-8452-baada33fd99b",
   "metadata": {},
   "source": [
    "## Instance variables"
   ]
  },
  {
   "cell_type": "markdown",
   "id": "0a6075e5-4da7-4460-ac1d-aeae81c18924",
   "metadata": {},
   "source": [
    "- <u>Objects are instances of a class</u>\n",
    "- the variables you make inside the constructor\n",
    "- **instance variable** --> it is a type of variable for which the value of the variable is different for different objects\n",
    "- ex. for each customer their pin will be different, their balance will be different, so each person has different **INSANTANCES** for their scenarios"
   ]
  },
  {
   "cell_type": "markdown",
   "id": "d92a7337-36bc-4540-80c5-7994362ea910",
   "metadata": {},
   "source": [
    "<div style=\"text-align:center;\">\n",
    "    <img src=\"https://pynative.com/wp-content/uploads/2021/07/create_and_access_class_variable.png\" alt=\"Description of image\" style=\"width:500px;height:400px;\"/>\n",
    "</div>"
   ]
  },
  {
   "cell_type": "markdown",
   "id": "97e10b03-99b9-47dd-ae2b-6ebd23802b74",
   "metadata": {},
   "source": [
    "## <u>How to Create Objects</u>"
   ]
  },
  {
   "cell_type": "markdown",
   "id": "2ff55efb-90d6-4fbd-acd5-0141674bbac9",
   "metadata": {},
   "source": [
    "### **Object = Class()**\n",
    "\n",
    "1. Car class --> Honda\n",
    "\n",
    "**honda = Car()**\n",
    "\n",
    "2. Sports class --> Badminton\n",
    "\n",
    "**badminton = Sports()**\n",
    "\n",
    "3. Animals class --> Cat\n",
    "\n",
    "**cat = Animals()**\n",
    "\n",
    "-------------------------\n",
    "Common examples of classes we already know: \n",
    "\n",
    "d = dict()\n",
    "\n",
    "l = list()\n",
    "\n",
    "s = set()\n",
    "\n",
    "string = str()\n",
    "\n",
    "-------------------------\n",
    "These are built in classes. Python has given a way to make it easier to use this through ways like [] to make lists or {} to make sets, which are refered to as **object literals**. They perform the same way as list() and set() would. Another thing to note is that these classes are **built-in** so they don't follow the Pascal naming convention we mentioned before (list() is not List()). They're just exceptions to the rule, like there are exceptions in the English language that we have to follow. "
   ]
  },
  {
   "cell_type": "markdown",
   "id": "e01c993f-32d7-4511-a5b8-52f376c3e29c",
   "metadata": {},
   "source": [
    "## Funtions vs Methods"
   ]
  },
  {
   "cell_type": "markdown",
   "id": "c0fc9d78-2fce-4ee7-80fe-45f80ac592cb",
   "metadata": {},
   "source": [
    "- Methods are functions which are written inside a class\n",
    "- Functions are just normal functions that are not inside a class\n",
    "\n",
    "### Difference in calling:"
   ]
  },
  {
   "cell_type": "code",
   "execution_count": null,
   "id": "81fcc00e-ee37-48ee-841b-476fe8d76352",
   "metadata": {},
   "outputs": [],
   "source": [
    "len(L) # len is a function \n",
    "L.append(3) # append is a method that is exclusively in the list class"
   ]
  },
  {
   "attachments": {},
   "cell_type": "markdown",
   "id": "9e2698ac-c10a-42c9-aaed-8865dfab80ef",
   "metadata": {},
   "source": [
    "As you can see in this code block when you try to use the list class (by putting the dot), it shows you methods of that class only. Since len is not part of the list class, it can not be used. len is a function that can be used generally across. "
   ]
  },
  {
   "cell_type": "markdown",
   "id": "ec3833cb-44bd-409b-bdba-43ea825dbae6",
   "metadata": {},
   "source": [
    "## Constructor"
   ]
  },
  {
   "cell_type": "code",
   "execution_count": 12,
   "id": "6e18624b-fc00-49ae-af15-a33a855a8655",
   "metadata": {},
   "outputs": [],
   "source": [
    "class AtmP:\n",
    "    def __init__(self): # the constructor\n",
    "        self.pin = \"\"\n",
    "        self.balance = 0\n",
    "        print(\"hello\")\n",
    "        self.menu()\n",
    "    def menu(self):\n",
    "        pass"
   ]
  },
  {
   "cell_type": "raw",
   "id": "bc4f4075-9847-476d-98ca-ff03e4188586",
   "metadata": {},
   "source": [
    "__init__ (constructor) is a special method, it is a method that is defined inside a class. Inside the __init__ the code gets automatically excecuted as soon as you make the class's object. "
   ]
  },
  {
   "cell_type": "code",
   "execution_count": 13,
   "id": "9f6db0d1-2a04-4896-acba-66a24358263b",
   "metadata": {},
   "outputs": [
    {
     "name": "stdout",
     "output_type": "stream",
     "text": [
      "hello\n"
     ]
    }
   ],
   "source": [
    "bank_of_canada = AtmP()\n",
    "# As you can see \"hello\" gets printed when we create the object since __init__ automatically\n",
    "# runs once we create an object for the class. "
   ]
  },
  {
   "cell_type": "markdown",
   "id": "56ff05d8-6d65-4b72-aca4-77765929f724",
   "metadata": {},
   "source": [
    "## Writing our own Class"
   ]
  },
  {
   "cell_type": "code",
   "execution_count": 33,
   "id": "113fdf4e-2775-443d-99fe-5a189d2fe8b6",
   "metadata": {},
   "outputs": [],
   "source": [
    "class Atm:\n",
    "    def __init__(self):\n",
    "        self.pin = \"\"\n",
    "        self.balance = 0\n",
    "        print(\"hello\")\n",
    "        self.menu()\n",
    "        \n",
    "    def menu(self):\n",
    "        user_input = input(\"Hello, how would you like to proceed?\\n1. Enter 1 to create pin\\n2. Enter 2 to deposit\\n3. Enter 3 to withdraw\\n4. Enter 4 to check balancce\\n5. Enter 5 to exit\")\n",
    "        \n",
    "        if user_input == \"1\":\n",
    "            self.create_pin()\n",
    "        elif user_input == \"2\":\n",
    "            self.deposit()\n",
    "        elif user_input == \"3\":\n",
    "            self.withdraw()\n",
    "        elif user_input == \"4\":\n",
    "            self.check_balance()\n",
    "        else:\n",
    "            print(\"Have a nice day!\")\n",
    "        \n",
    "            \n",
    "    def create_pin(self):\n",
    "        self.pin = input(\"Enter your pin: \")\n",
    "        print(\"Pin set successfully\")\n",
    "\n",
    "    def deposit(self):\n",
    "        temp = input(\"enter your pin: \")\n",
    "        if temp == self.pin:\n",
    "            amount = int(input(\"enter the amount: \"))\n",
    "            self.balance = self.balance + amount\n",
    "            print(\"Deposit succesfully\")\n",
    "        else:\n",
    "            print(\"Invalid\")\n",
    "\n",
    "    def withdraw(self):\n",
    "        temp = input(\"enter your pin: \")\n",
    "        if temp == self.pin:\n",
    "            amount = int(input(\"enter the amount: \"))\n",
    "            if amount < self.balance:\n",
    "                self.balance = self.balance - amount\n",
    "                print(\"Withdrawl succesfully\")\n",
    "            else:\n",
    "                print(\"Insufficient funds\")\n",
    "        else:\n",
    "            print(\"Invalid\")\n",
    "\n",
    "    def check_balance(self):\n",
    "        temp = input(\"enter your pin: \")\n",
    "        if temp == self.pin:\n",
    "            print(self.balance)\n",
    "        else:\n",
    "            print(\"Invalid pin\")"
   ]
  },
  {
   "cell_type": "code",
   "execution_count": 34,
   "id": "01834a05-164e-49ad-a5f8-60b33bb2ea2a",
   "metadata": {},
   "outputs": [
    {
     "name": "stdout",
     "output_type": "stream",
     "text": [
      "hello\n"
     ]
    },
    {
     "name": "stdin",
     "output_type": "stream",
     "text": [
      "Hello, how would you like to proceed?\n",
      "1. Enter 1 to create pin\n",
      "2. Enter 2 to deposit\n",
      "3. Enter 3 to withdraw\n",
      "4. Enter 4 to check balancce\n",
      "5. Enter 5 to exit 1\n",
      "Enter your pin:  123\n"
     ]
    },
    {
     "name": "stdout",
     "output_type": "stream",
     "text": [
      "Pin set successfully\n"
     ]
    }
   ],
   "source": [
    "bank_of_america = Atm()\n",
    "# set pin to 123"
   ]
  },
  {
   "cell_type": "code",
   "execution_count": 35,
   "id": "3b7da6b5-3927-4de3-a4ee-33a5849c1f28",
   "metadata": {},
   "outputs": [
    {
     "name": "stdin",
     "output_type": "stream",
     "text": [
      "enter your pin:  123\n",
      "enter the amount:  500\n"
     ]
    },
    {
     "name": "stdout",
     "output_type": "stream",
     "text": [
      "Deposit succesfully\n"
     ]
    }
   ],
   "source": [
    "bank_of_america.deposit()"
   ]
  },
  {
   "cell_type": "code",
   "execution_count": 36,
   "id": "0a91cd2e-6ca9-445e-878c-59c0b753ca20",
   "metadata": {},
   "outputs": [
    {
     "name": "stdin",
     "output_type": "stream",
     "text": [
      "enter your pin:  123\n"
     ]
    },
    {
     "name": "stdout",
     "output_type": "stream",
     "text": [
      "500\n"
     ]
    }
   ],
   "source": [
    "bank_of_america.check_balance()"
   ]
  },
  {
   "cell_type": "code",
   "execution_count": 37,
   "id": "88e06586-13dd-4287-9d4e-25e8ceef1941",
   "metadata": {},
   "outputs": [
    {
     "name": "stdin",
     "output_type": "stream",
     "text": [
      "enter your pin:  123\n",
      "enter the amount:  200\n"
     ]
    },
    {
     "name": "stdout",
     "output_type": "stream",
     "text": [
      "Withdrawl succesfully\n"
     ]
    }
   ],
   "source": [
    "bank_of_america.withdraw()"
   ]
  },
  {
   "cell_type": "code",
   "execution_count": 38,
   "id": "b523d175-2c44-40f2-a8f2-e72b25159bb2",
   "metadata": {},
   "outputs": [
    {
     "name": "stdin",
     "output_type": "stream",
     "text": [
      "enter your pin:  123\n"
     ]
    },
    {
     "name": "stdout",
     "output_type": "stream",
     "text": [
      "300\n"
     ]
    }
   ],
   "source": [
    "bank_of_america.check_balance()"
   ]
  },
  {
   "cell_type": "code",
   "execution_count": 39,
   "id": "7546a71e-b276-462e-b140-f77aa3e31196",
   "metadata": {},
   "outputs": [
    {
     "name": "stdout",
     "output_type": "stream",
     "text": [
      "hello\n"
     ]
    },
    {
     "name": "stdin",
     "output_type": "stream",
     "text": [
      "Hello, how would you like to proceed?\n",
      "1. Enter 1 to create pin\n",
      "2. Enter 2 to deposit\n",
      "3. Enter 3 to withdraw\n",
      "4. Enter 4 to check balancce\n",
      "5. Enter 5 to exit 1\n",
      "Enter your pin:  10\n"
     ]
    },
    {
     "name": "stdout",
     "output_type": "stream",
     "text": [
      "Pin set successfully\n"
     ]
    }
   ],
   "source": [
    "chase = Atm()\n",
    "# set pin to 10"
   ]
  },
  {
   "cell_type": "code",
   "execution_count": 40,
   "id": "66111503-7707-4277-8060-b6887cf424ac",
   "metadata": {},
   "outputs": [
    {
     "name": "stdin",
     "output_type": "stream",
     "text": [
      "enter your pin:  10\n"
     ]
    },
    {
     "name": "stdout",
     "output_type": "stream",
     "text": [
      "0\n"
     ]
    }
   ],
   "source": [
    "chase.check_balance()"
   ]
  },
  {
   "cell_type": "code",
   "execution_count": 41,
   "id": "ccc1ee80-1c79-44c2-b094-41c0a4c97788",
   "metadata": {},
   "outputs": [
    {
     "name": "stdin",
     "output_type": "stream",
     "text": [
      "enter your pin:  10\n",
      "enter the amount:  10000\n"
     ]
    },
    {
     "name": "stdout",
     "output_type": "stream",
     "text": [
      "Deposit succesfully\n"
     ]
    }
   ],
   "source": [
    "chase.deposit()"
   ]
  },
  {
   "cell_type": "code",
   "execution_count": 42,
   "id": "655015a9-b666-4a5f-a22c-f3f33a071e80",
   "metadata": {},
   "outputs": [
    {
     "name": "stdin",
     "output_type": "stream",
     "text": [
      "enter your pin:  10\n",
      "enter the amount:  30000000\n"
     ]
    },
    {
     "name": "stdout",
     "output_type": "stream",
     "text": [
      "Insufficient funds\n"
     ]
    }
   ],
   "source": [
    "chase.withdraw()"
   ]
  },
  {
   "cell_type": "code",
   "execution_count": 46,
   "id": "c3164f3e-d60a-4691-956d-c76cd6a63720",
   "metadata": {},
   "outputs": [
    {
     "name": "stdin",
     "output_type": "stream",
     "text": [
      "Hello, how would you like to proceed?\n",
      "1. Enter 1 to create pin\n",
      "2. Enter 2 to deposit\n",
      "3. Enter 3 to withdraw\n",
      "4. Enter 4 to check balancce\n",
      "5. Enter 5 to exit 5\n"
     ]
    },
    {
     "name": "stdout",
     "output_type": "stream",
     "text": [
      "Have a nice day!\n"
     ]
    },
    {
     "data": {
      "text/plain": [
       "10000"
      ]
     },
     "execution_count": 46,
     "metadata": {},
     "output_type": "execute_result"
    }
   ],
   "source": [
    "chase.menu()\n",
    "chase.balance"
   ]
  },
  {
   "cell_type": "markdown",
   "id": "2b63a3f8-034a-42b1-abd5-8c386a70d6e2",
   "metadata": {},
   "source": [
    "## Special Methods/Magic Methods/Dunder Methods"
   ]
  },
  {
   "cell_type": "markdown",
   "id": "431a6edf-d298-48fe-9864-592787ba4ce0",
   "metadata": {},
   "source": [
    "- the constrcutor is a **magic method**\n",
    "- they have **double underscore** in the front and back\n",
    "- **you CANNOT make magic methods**\n",
    "- they are pre-defined in python, so they are built in\n",
    "- they are automatically triggered "
   ]
  },
  {
   "cell_type": "code",
   "execution_count": 68,
   "id": "c4e01b9e-7292-47ab-abe3-d4158605ffee",
   "metadata": {},
   "outputs": [
    {
     "name": "stdout",
     "output_type": "stream",
     "text": [
      "__abs__ __add__ __and__ __bool__ __ceil__ __class__ __delattr__ __dir__ __divmod__ __doc__ __eq__ __float__ __floor__ __floordiv__ __format__ __ge__ __getattribute__ __getnewargs__ __getstate__ __gt__ __hash__ __index__ __init__ __init_subclass__ __int__ __invert__ __le__ __lshift__ __lt__ __mod__ __mul__ __ne__ __neg__ __new__ __or__ __pos__ __pow__ __radd__ __rand__ __rdivmod__ __reduce__ __reduce_ex__ __repr__ __rfloordiv__ __rlshift__ __rmod__ __rmul__ __ror__ __round__ __rpow__ __rrshift__ __rshift__ __rsub__ __rtruediv__ __rxor__ __setattr__ __sizeof__ __str__ __sub__ __subclasshook__ __truediv__ __trunc__ __xor__ as_integer_ratio bit_count bit_length conjugate denominator from_bytes imag is_integer numerator real to_bytes "
     ]
    }
   ],
   "source": [
    "# examples of how dunder methods look like\n",
    "dir(int)\n",
    "for dunder in dir(int):\n",
    "    print(dunder, end=\" \")"
   ]
  },
  {
   "cell_type": "markdown",
   "id": "dda04294-2f92-48ce-8a23-fcb9d8931dee",
   "metadata": {},
   "source": [
    "## What is the purpose of the constructor?"
   ]
  },
  {
   "cell_type": "markdown",
   "id": "b8da9183-621b-4aed-8e29-c7242b71b189",
   "metadata": {},
   "source": [
    "- put stuff/code in the constrcutor you don't want the user to access\n",
    "- ex. when running your application you need the internet, you don't have a button for the users to access the internet everytime they use your application, that should be done automatically\n",
    "- code that helps you run the application, that does not need to be in control of the users  "
   ]
  },
  {
   "cell_type": "markdown",
   "id": "1f71e225-338f-4af4-94e0-d44b98dbcace",
   "metadata": {},
   "source": [
    "## What is \"self\"?"
   ]
  },
  {
   "cell_type": "markdown",
   "id": "3694ac9b-c3fb-4e30-ba74-4ea96254d36a",
   "metadata": {},
   "source": [
    "- self **IS** the **OBJECT** you create from the class"
   ]
  },
  {
   "cell_type": "code",
   "execution_count": 17,
   "id": "799fcacf-1d7a-4d73-84e0-ab8f3dd60102",
   "metadata": {},
   "outputs": [],
   "source": [
    "class AtmP:\n",
    "    def __init__(self):\n",
    "        self.pin = \"\"\n",
    "        self.balance = 0\n",
    "        print('id of self is:', id(self)) #check the id of self\n",
    "        self.menu()\n",
    "    def menu(self):\n",
    "        pass"
   ]
  },
  {
   "cell_type": "code",
   "execution_count": 18,
   "id": "10167fc0-73ea-49a1-9fcf-b5d17625087b",
   "metadata": {},
   "outputs": [
    {
     "name": "stdout",
     "output_type": "stream",
     "text": [
      "id of self is: 4376570400\n"
     ]
    }
   ],
   "source": [
    "sbi = AtmP()"
   ]
  },
  {
   "cell_type": "code",
   "execution_count": 19,
   "id": "84e05c57-73de-492a-8039-13187c72f48c",
   "metadata": {},
   "outputs": [
    {
     "name": "stdout",
     "output_type": "stream",
     "text": [
      "id of sbi is: 4376570400\n"
     ]
    }
   ],
   "source": [
    "print(\"id of sbi is:\", id(sbi))"
   ]
  },
  {
   "cell_type": "markdown",
   "id": "5dd350c9-9dcd-4d88-8c3c-6840866da29a",
   "metadata": {},
   "source": [
    "### What do you see? Are the ids the same? "
   ]
  },
  {
   "cell_type": "markdown",
   "id": "0c3b9587-914f-44d9-b19f-ce241e7aae1b",
   "metadata": {},
   "source": [
    "### Conclusion: "
   ]
  },
  {
   "cell_type": "markdown",
   "id": "f46dcd10-2d0f-4a7a-9a46-4d22e1c5ed53",
   "metadata": {},
   "source": [
    "### <center>sbi _is_ self </center>\n",
    "### <center>sbi = self </center>\n",
    "### <center>object = self </center>\n",
    "-----------\n",
    "### **<center>The object you are currently working with --> that object **is** self </center>**"
   ]
  },
  {
   "cell_type": "markdown",
   "id": "e749fa73-4795-4c38-a21e-1bebdaef521a",
   "metadata": {},
   "source": [
    "## Why is \"self\" needed? Why does it exist?"
   ]
  },
  {
   "cell_type": "markdown",
   "id": "5d430011-f1a9-4f83-9503-ea8af549198d",
   "metadata": {},
   "source": [
    "1.\n",
    "- in a class there are data and functions\n",
    "- and these two can only be accessed by a class object\n",
    "\n",
    "2.\n",
    "- this means that inside the class, the methods can not access the other methods in the class or data\n",
    "- but there will be times where one method needs to access another method\n",
    "- self is basically the current object which is calling the method"
   ]
  },
  {
   "cell_type": "code",
   "execution_count": 15,
   "id": "570424d1-51c8-407a-a68c-5b6df138a99e",
   "metadata": {},
   "outputs": [],
   "source": [
    "class AtmP:\n",
    "    def __init__(self):\n",
    "        print(\"inside the constructor\")\n",
    "        self.pin = \"\"\n",
    "        self.balance = 0\n",
    "        self.menu()\n",
    "    def menu(self):\n",
    "        item = 20 # item assigned 20\n",
    "        self.access() # calling access() method\n",
    "    def access(self):\n",
    "        item += 30 # trying to add 20 and 30 and assinging back to item\n",
    "        print(item) # printing it out\n",
    "\n",
    "\n",
    "obj = AtmP()\n",
    "\n",
    "# output:\n",
    "# inside the constructor\n",
    "# UnboundLocalError: cannot access local variable 'item' where it is not associated with a value"
   ]
  },
  {
   "cell_type": "markdown",
   "id": "e07b5ec7-bcff-4734-9dbb-2bf8c5d62c59",
   "metadata": {},
   "source": [
    "Here you get an error because item can only be accessed by the method it was made in. When the menu method made an item variable, you can't expect that the access method can also use that same variable. The variables without the keyword \"self\" next to them cannot be accessed by other class methods. "
   ]
  },
  {
   "cell_type": "code",
   "execution_count": 16,
   "id": "2e802f03-48cd-41fd-9d79-5febdd31ad84",
   "metadata": {},
   "outputs": [
    {
     "name": "stdout",
     "output_type": "stream",
     "text": [
      "inside the constructor\n",
      "50\n"
     ]
    }
   ],
   "source": [
    "class AtmP:\n",
    "    def __init__(self):\n",
    "        print(\"inside the constructor\")\n",
    "        self.pin = \"\"\n",
    "        self.balance = 0\n",
    "        self.menu()\n",
    "    def menu(self):\n",
    "        self.item = 20\n",
    "        self.access()\n",
    "    def access(self):\n",
    "        self.item += 30\n",
    "        print(self.item)\n",
    "\n",
    "obj = AtmP()"
   ]
  },
  {
   "cell_type": "markdown",
   "id": "d4d80e12-0c08-42a3-85e8-dd6cf02c08fe",
   "metadata": {},
   "source": [
    "Here because item variable now has the keyword \"self\" attached to it in the menu method, this variable can be used by other methods now too. That's why when we try to add 30 to 20 we do get the correct output of 50. "
   ]
  }
 ],
 "metadata": {
  "kernelspec": {
   "display_name": "Python 3 (ipykernel)",
   "language": "python",
   "name": "python3"
  },
  "language_info": {
   "codemirror_mode": {
    "name": "ipython",
    "version": 3
   },
   "file_extension": ".py",
   "mimetype": "text/x-python",
   "name": "python",
   "nbconvert_exporter": "python",
   "pygments_lexer": "ipython3",
   "version": "3.12.1"
  }
 },
 "nbformat": 4,
 "nbformat_minor": 5
}
