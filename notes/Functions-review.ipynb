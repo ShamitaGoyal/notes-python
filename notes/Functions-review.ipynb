{
 "cells": [
  {
   "cell_type": "markdown",
   "id": "a78b0d28-3c4b-4f0c-a8c9-15fea193371e",
   "metadata": {},
   "source": [
    "# <div style=\"text-align:center;\">Functions: A Review</div>\n",
    "<div style=\"text-align:center;\">4/10/24</div>\n"
   ]
  },
  {
   "cell_type": "markdown",
   "id": "ac135e38-5899-441e-97bc-1e26d4e9ac2f",
   "metadata": {},
   "source": [
    "- Python considers functions to be just like any other data object (first class objects)\n",
    "  - ex. a list object, an int object, a BankAccount \n",
    "\n",
    "**Functions:**\n",
    "- can be deleted from memory\n",
    "- passed to another function as input argument and returned from another function\n",
    "- stored in a variable or container and accessed just like any other data object"
   ]
  },
  {
   "cell_type": "markdown",
   "id": "a3c5c68f-ab32-4ca9-b5fd-573e3101446a",
   "metadata": {},
   "source": [
    "## Function as Input Argument "
   ]
  },
  {
   "cell_type": "code",
   "execution_count": 11,
   "id": "3ea84a47-dff1-4964-83fa-80b4972fdddb",
   "metadata": {},
   "outputs": [],
   "source": [
    "def doubling(n):\n",
    "    return 2*n\n",
    "def tripling(n):\n",
    "    return 3*n"
   ]
  },
  {
   "cell_type": "code",
   "execution_count": 12,
   "id": "3b32296b-5882-4a33-b4dc-e3653bdc13e4",
   "metadata": {},
   "outputs": [],
   "source": [
    "def generateList(f): # argument is a function\n",
    "    resultList = [f(n) for n in range(1,6)]\n",
    "    print(resultList)"
   ]
  },
  {
   "cell_type": "code",
   "execution_count": 13,
   "id": "a07f93ca-399a-4640-861f-88f3af93bedc",
   "metadata": {},
   "outputs": [
    {
     "name": "stdout",
     "output_type": "stream",
     "text": [
      "[2, 4, 6, 8, 10]\n",
      "[3, 6, 9, 12, 15]\n"
     ]
    }
   ],
   "source": [
    "generateList(doubling)\n",
    "generateList(tripling)"
   ]
  },
  {
   "cell_type": "markdown",
   "id": "52b31e84-997c-48a9-8a2f-eed1fc380fbe",
   "metadata": {},
   "source": [
    "## Function as Input Argument: Application"
   ]
  },
  {
   "cell_type": "code",
   "execution_count": 14,
   "id": "5b387719-4f2d-4e03-83e6-a959547a9ff9",
   "metadata": {},
   "outputs": [
    {
     "data": {
      "text/plain": [
       "[(1, 2), (2, 0), (3, 8), (4, 7)]"
      ]
     },
     "execution_count": 14,
     "metadata": {},
     "output_type": "execute_result"
    }
   ],
   "source": [
    "# sorting function: if the data is a container, sorted uses the first\n",
    "# value in the container to determine the sort order:\n",
    "\n",
    "L = sorted([(3,8), (1,2), (2,0), (4,7)])\n",
    "L"
   ]
  },
  {
   "cell_type": "markdown",
   "id": "a9352ccd-fd48-4125-b911-9d3063c7e641",
   "metadata": {},
   "source": [
    "It takes a look at the first element of each tuple and sorts it according to that number. We can specify how we want to sort with an input argument called **key** in the sorting function."
   ]
  },
  {
   "cell_type": "code",
   "execution_count": 15,
   "id": "55757f26-eea6-495c-bd7e-ad80b6347d29",
   "metadata": {},
   "outputs": [
    {
     "data": {
      "text/plain": [
       "[(2, 0), (1, 2), (4, 7), (3, 8)]"
      ]
     },
     "execution_count": 15,
     "metadata": {},
     "output_type": "execute_result"
    }
   ],
   "source": [
    "def by2ndItem(t):\n",
    "    return t[1]\n",
    "\n",
    "L1 = sorted([(3,8), (1,2), (2,0), (4,7)], key=by2ndItem)\n",
    "L1"
   ]
  },
  {
   "cell_type": "markdown",
   "id": "6e6f8bf1-2139-44db-8a9b-41562cba9959",
   "metadata": {},
   "source": [
    "We can write the function that is passed in as a key argument, and sorted will use our function to determine the sort order. "
   ]
  },
  {
   "cell_type": "markdown",
   "id": "8f4bb494-189b-4a08-b83e-9c2a6bc0c434",
   "metadata": {},
   "source": [
    "## Function: Variable Argument List"
   ]
  },
  {
   "cell_type": "markdown",
   "id": "b72dc4d3-6648-46c4-b3f3-950d4bdd0f5d",
   "metadata": {},
   "source": [
    "RHS variable --> it means the data in the variable is being copied and stored somewhere else\n",
    "\n",
    "LHS variable --> it means some data is being stored into the variable "
   ]
  },
  {
   "cell_type": "code",
   "execution_count": 17,
   "id": "1c06ac93-6eb7-442d-8ede-a0c1228058b9",
   "metadata": {},
   "outputs": [],
   "source": [
    "def aFunction(n1,n2,n3):  # LHS variables \n",
    "    pass\n",
    "    \n",
    "aFunction(var1, var2, var3) # RHS variables "
   ]
  },
  {
   "cell_type": "markdown",
   "id": "b16910dd-0517-4efa-8d6c-f67f83838ffc",
   "metadata": {},
   "source": [
    "## The Unpacking Operator"
   ]
  },
  {
   "cell_type": "markdown",
   "id": "82d51cb5-7b2e-46db-b8ae-d6ef434e3ad9",
   "metadata": {},
   "source": [
    "#### When we use the * operator:\n",
    "1. in front of a sequence data type (list or tuple)\n",
    "2. and the sequence is being used in RHS context\n",
    "3. where the LHS is made for multiple variables\n",
    "\n",
    "Then python will interpret the * as the unpacking operator. "
   ]
  },
  {
   "cell_type": "markdown",
   "id": "741fbba5-2538-40da-929d-b8f7d8a90977",
   "metadata": {},
   "source": [
    "myList = [1,2,3]\n",
    "\n",
    "aFunction(*myList)\n",
    "\n",
    "1. the * is in front of the sequence myList\n",
    "2. since myList is passed to aFunction, it has RHS context\n",
    "3. since aFunction has multiple input parameters, the LHS has multiple variables\n",
    "\n",
    "Therefore python unpacks myList into 3 separate values, which match the 3 required parameters of aFunction. \n",
    "- the unpacking operator is often used in argument passing, to unpack a sequence of data into individual parameters for the function"
   ]
  },
  {
   "cell_type": "code",
   "execution_count": null,
   "id": "54640c3c-7e44-450f-89ee-6f1af844229b",
   "metadata": {},
   "outputs": [],
   "source": [
    "function(*myList, 4, 5)\n",
    "# unpacks into: (1,2,3,4,5)"
   ]
  },
  {
   "cell_type": "markdown",
   "id": "5d99d303-e594-4e7f-8c0d-b26dd90617c4",
   "metadata": {},
   "source": [
    "## Variable Length Argument List\n",
    "- for a function to have a variable argument list, it must be able to handle any number of positional **and** keyword arguments\n",
    "- this means the function should use both *args and **kwargs "
   ]
  },
  {
   "cell_type": "code",
   "execution_count": null,
   "id": "b3a7b6ec-0f1e-437c-91db-c2bc3d609a8e",
   "metadata": {},
   "outputs": [],
   "source": [
    "def printMovie(*args, **kwargs):\n",
    "    print(\"positional arguments:\")\n",
    "    for val in args:\n",
    "        print(val)\n",
    "    print(\"keyword arguments:\")\n",
    "    for k,v in kwargs.items():\n",
    "        print(k, \"=\", v)\n",
    "\n",
    "# when function is called — all positional arguments go into \n",
    "# the args tuple and all the keyword arguments pairs go into\n",
    "# the kwargs dictionary "
   ]
  },
  {
   "cell_type": "markdown",
   "id": "1b07f4d1-b8b1-4e80-9e98-ed024d765374",
   "metadata": {},
   "source": [
    "Variable length argument list are useful:\n",
    "- when we want to refer to the input arguments as a grouping\n",
    "\n",
    "Case 1:\n",
    "- in an inheritance hierarchy, if a subclass constructor needs to pass input arguments to the superclass constructor, it simply passes args and kwargs to the superclass constructor. There is no need to copy individual arguments to pass to the superclass\n",
    "\n",
    "Case 2:\n",
    "- When functionA is passed as an argument to another functionB, functionA’s argument list can also be passed to function B. This way functionB can call functionA as needed."
   ]
  },
  {
   "cell_type": "code",
   "execution_count": 7,
   "id": "2aed893e-7ba3-4772-8eec-eb8daa1a98f6",
   "metadata": {},
   "outputs": [
    {
     "name": "stdout",
     "output_type": "stream",
     "text": [
      "[1, 2, 3]\n",
      "\n"
     ]
    }
   ],
   "source": [
    "# 1. A function reference can act like any data reference\n",
    "\n",
    "L = [1,2,3]\n",
    "L2 = L\n",
    "print(L2)\n",
    "print()"
   ]
  },
  {
   "cell_type": "code",
   "execution_count": 8,
   "id": "37ea2d40-4ccf-427a-bd38-1a4b4b953493",
   "metadata": {},
   "outputs": [
    {
     "name": "stdout",
     "output_type": "stream",
     "text": [
      "hello\n",
      "\n"
     ]
    }
   ],
   "source": [
    "def hello() :\n",
    "    print(\"hello\")\n",
    "    \n",
    "greeting = hello\n",
    "greeting()\n",
    "print()"
   ]
  },
  {
   "cell_type": "code",
   "execution_count": 9,
   "id": "9945e44f-0793-478c-b9ef-6502a3e12d84",
   "metadata": {},
   "outputs": [
    {
     "name": "stdout",
     "output_type": "stream",
     "text": [
      "hello\n",
      "goodbye\n",
      "\n"
     ]
    }
   ],
   "source": [
    "# 2. A function reference can be stored in a container\n",
    "#    just like any data reference\n",
    "\n",
    "def bye() :\n",
    "    print(\"goodbye\")\n",
    "    \n",
    "L = [hello, bye]\n",
    "L[0]()\n",
    "L[1]()\n",
    "print()"
   ]
  },
  {
   "cell_type": "code",
   "execution_count": 10,
   "id": "86e29526-a147-4576-880f-63998a58e7f9",
   "metadata": {},
   "outputs": [
    {
     "name": "stdout",
     "output_type": "stream",
     "text": [
      "[(1, 2), (2, 0), (3, 8), (4, 7)]\n",
      "[(2, 0), (1, 2), (4, 7), (3, 8)]\n"
     ]
    }
   ],
   "source": [
    "# 3. A function reference can be passed to another function\n",
    "#    as input argument, just like any data reference\n",
    "\n",
    "L = [(3,8), (1,2), (2,0), (4,7)]\n",
    "print(sorted(L))\n",
    "\n",
    "def by2ndItem(t) :\n",
    "    return t[1]\n",
    "\n",
    "print(sorted(L, key=by2ndItem))"
   ]
  }
 ],
 "metadata": {
  "kernelspec": {
   "display_name": "Python 3 (ipykernel)",
   "language": "python",
   "name": "python3"
  },
  "language_info": {
   "codemirror_mode": {
    "name": "ipython",
    "version": 3
   },
   "file_extension": ".py",
   "mimetype": "text/x-python",
   "name": "python",
   "nbconvert_exporter": "python",
   "pygments_lexer": "ipython3",
   "version": "3.12.1"
  }
 },
 "nbformat": 4,
 "nbformat_minor": 5
}
