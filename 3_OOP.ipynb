{
 "cells": [
  {
   "cell_type": "markdown",
   "id": "5da3ddeb-0bc8-4a3b-b401-ee513b1f5fde",
   "metadata": {},
   "source": [
    "## <center> 3. STATIC METHODS + VARIABLES, AGGREGATITON, & INHERITANCE </center>"
   ]
  },
  {
   "cell_type": "markdown",
   "id": "0a75ba3a-5cac-44c9-8b8a-0743dc81c305",
   "metadata": {},
   "source": [
    "## Static Variable/Class Variable\n",
    "- They are shared among all instances of the class and can be accessed using either the class name or an instance of the class\n",
    "- remember: instance variable is a type of variable for which the value of the variable is different for different objects"
   ]
  },
  {
   "cell_type": "code",
   "execution_count": 8,
   "id": "cd81cbf7-4131-47ed-be64-50a27facd18a",
   "metadata": {},
   "outputs": [],
   "source": [
    "class AtmP:\n",
    "    \n",
    "    #static/class variable\n",
    "    counter = 1\n",
    "    \n",
    "    def __init__(self):\n",
    "        # instance variables \n",
    "        self.__pin = \"\"\n",
    "        self.__balance = 0\n",
    "        self.sno = AtmP.counter # static variable \n",
    "        AtmP.counter = AtmP.counter + 1\n",
    "        print(id(self))\n",
    "\n",
    "    def __menu(self): # Double underscore\n",
    "        pass\n",
    "    def deposit(self):\n",
    "        user_input = int(input(\"enter an amount to deposit: \"))\n",
    "        self.amount = self.__balance + user_input\n",
    "    def withdraw(self):\n",
    "        user_input = int(input(\"enter an amount withdraw: \"))\n",
    "        self.amount = self.__balance - user_input\n",
    "    def check_balance(self):\n",
    "        print(\"your balance is\", self.amount)\n",
    "        "
   ]
  },
  {
   "cell_type": "code",
   "execution_count": 9,
   "id": "db849806-6087-40cd-9b1e-7fd4e6754f73",
   "metadata": {},
   "outputs": [
    {
     "name": "stdout",
     "output_type": "stream",
     "text": [
      "4586441856\n",
      "4586442336\n",
      "4414074480\n",
      "1\n",
      "2\n",
      "3\n"
     ]
    }
   ],
   "source": [
    "c1 = AtmP()\n",
    "c2 = AtmP()\n",
    "c3 = AtmP()\n",
    "\n",
    "print(c1.sno)\n",
    "print(c2.sno)\n",
    "print(c3.sno)"
   ]
  },
  {
   "cell_type": "markdown",
   "id": "4837021a-ff21-45c5-8fd0-2e10e86560ec",
   "metadata": {},
   "source": [
    "<div style=\"text-align:center;\">\n",
    "    <img src=\"https://pynative.com/wp-content/uploads/2021/08/python_class_method_vs_static_method_vs_instance_method.png\" alt=\"Description of image\" style=\"width:500px;height:300px;\"/>\n",
    "</div>"
   ]
  },
  {
   "cell_type": "markdown",
   "id": "ffd5e229-9a71-481e-a391-9f44260391de",
   "metadata": {},
   "source": [
    "## Static Methods\n",
    "- are methods that are bound to a class rather than an instance of the class\n",
    "- they don't operate on instances and don't have access to instance attributes\n",
    "- instead, they work with class-level data and are defined using the **@staticmethod decorator**"
   ]
  },
  {
   "cell_type": "code",
   "execution_count": 22,
   "id": "902e384a-7ffe-4478-9978-6a12bd779c22",
   "metadata": {},
   "outputs": [],
   "source": [
    "class MyClass:\n",
    "    # Static variable\n",
    "    static_var = 0\n",
    "    \n",
    "    def __init__(self, x):\n",
    "        self.x = x\n",
    "    \n",
    "    # Static method to increment the static variable\n",
    "    @staticmethod\n",
    "    def increment_static_var():\n",
    "        MyClass.static_var += 1\n",
    "    \n",
    "    # Static method to display the static variable\n",
    "    @staticmethod\n",
    "    def display_static_var():\n",
    "        print(\"Static variable value:\", MyClass.static_var)"
   ]
  },
  {
   "cell_type": "code",
   "execution_count": 24,
   "id": "e03677ae-607f-43da-a4b3-7a374787426e",
   "metadata": {},
   "outputs": [
    {
     "name": "stdout",
     "output_type": "stream",
     "text": [
      "Static variable value: 2\n"
     ]
    }
   ],
   "source": [
    "# Creating instances of MyClass\n",
    "obj1 = MyClass(10)\n",
    "obj2 = MyClass(20)\n",
    "\n",
    "# Incrementing the static variable using a static method\n",
    "MyClass.increment_static_var()\n",
    "\n",
    "# Displaying the static variable using a static method\n",
    "MyClass.display_static_var()  # Output: Static variable value: 1"
   ]
  },
  {
   "cell_type": "markdown",
   "id": "7a1fc700-348f-40ae-b948-727ea6d9d50a",
   "metadata": {},
   "source": [
    "## Aggregation\n",
    "-  a type of relationship between classes where one class contains references to another class as part of its state\n",
    "- it represents a \"has-a\" relationship, where one object owns or is composed of other objects"
   ]
  },
  {
   "cell_type": "markdown",
   "id": "8501c710-afe4-46f9-a7e4-86c0b77dfd35",
   "metadata": {},
   "source": [
    "<div style=\"text-align:center;\">\n",
    "    <img src=\"https://media.geeksforgeeks.org/wp-content/uploads/20220520133409/UMLDiagram.jpg\" alt=\"Description of image\" style=\"width:500px;height:250px;\"/>\n",
    "</div>"
   ]
  },
  {
   "cell_type": "code",
   "execution_count": 25,
   "id": "ebdbcc00-6838-47d1-8e01-577819568b79",
   "metadata": {},
   "outputs": [
    {
     "name": "stdout",
     "output_type": "stream",
     "text": [
      "CA\n"
     ]
    }
   ],
   "source": [
    "class Customer:\n",
    "    def __init__(self, name, gender, address):\n",
    "        self.name = name\n",
    "        self.gender = gender\n",
    "        self.address = address\n",
    "\n",
    "class Address:\n",
    "    def __init__(self, city, pincode, state):\n",
    "        self.city = city\n",
    "        self.pincode = pincode\n",
    "        self.state = state\n",
    "\n",
    "add = Address(\"san jose\", 95111, \"CA\")\n",
    "cust = Customer(\"shahid kapoor\", \"male\", add)"
   ]
  },
  {
   "cell_type": "code",
   "execution_count": 28,
   "id": "ec1d8060-b708-45b4-849d-36b2aa1c89c7",
   "metadata": {},
   "outputs": [
    {
     "name": "stdout",
     "output_type": "stream",
     "text": [
      "<__main__.Address object at 0x11123eae0>\n",
      "san jose\n",
      "CA\n",
      "95111\n"
     ]
    }
   ],
   "source": [
    "print(cust.address)\n",
    "print(cust.address.city) \n",
    "print(cust.address.state)\n",
    "print(cust.address.pincode)"
   ]
  },
  {
   "cell_type": "markdown",
   "id": "2a100db4-4739-4754-b20f-c549904aefaa",
   "metadata": {},
   "source": [
    "## Inheritance\n",
    "- feature that allows a class to inherit attributes and methods from another class, called the superclass or parent class\n",
    "- the biggest benefit of inheritace is: code resusability\n",
    "- child class can inherit properties and attributes from parent class, but parent class CANNOT inherit from the child class\n",
    "\n",
    "<u>What does the child class inherit from the parent class:</u>\n",
    "- data members\n",
    "- methods\n",
    "- constructor\n",
    "\n",
    "#### **<center>Private members are not inherited!</center>**"
   ]
  },
  {
   "cell_type": "markdown",
   "id": "238a0bce-cf5d-4413-acf5-3dbbbcffb13d",
   "metadata": {},
   "source": [
    "\n",
    "<div style=\"text-align:center;\">\n",
    "    <img src=\"https://www.tutorialspoint.com/python/images/inheritance.jpg\" style=\"float:left; width:300px; margin right:10px;\"/> <img src=\"https://www.scaler.com/topics/media/single-inheritance-in-python-1024x615.webp\" style=\"float:left; width:400px;\"/>\n",
    "</div>\n"
   ]
  },
  {
   "cell_type": "code",
   "execution_count": null,
   "id": "e121be54-f56f-44aa-9b2f-e3999c8ce307",
   "metadata": {},
   "outputs": [],
   "source": [
    "class User:\n",
    "    def login(self):\n",
    "        print(\"login\")\n",
    "    def register(self):\n",
    "        print(\"register\")\n",
    "\n",
    "class Student(User): # Student is child, User is parent class\n",
    "    def enroll(self):\n",
    "        print(\"enroll\")\n",
    "    def review(self):\n",
    "        print(\"review\")\n",
    "\n",
    "\n",
    "student1 = Student()\n",
    "student1.login()\n",
    "student1.register()\n",
    "student1.enroll()\n",
    "student1.register()\n",
    "\n",
    "# Remember Student class (child class) can use the attributes and methods of parent class\n",
    "# but User class (parent class) cannot inherit from child class."
   ]
  },
  {
   "cell_type": "code",
   "execution_count": 2,
   "id": "dc17649c-a142-443a-a387-97ff4720f376",
   "metadata": {},
   "outputs": [
    {
     "name": "stdout",
     "output_type": "stream",
     "text": [
      "feature_1 from ParentClass is running...\n",
      "feature_2 from ParentClass is running...\n",
      "feature_3 from ChildClass is running...\n"
     ]
    }
   ],
   "source": [
    "class ParentClass:\n",
    "\n",
    "    def feature_1(self):\n",
    "        print('feature_1 from ParentClass is running...')\n",
    "\n",
    "    def feature_2(self):\n",
    "        print('feature_2 from ParentClass is running...')\n",
    "\n",
    "\n",
    "class ChildClass(ParentClass):\n",
    "\n",
    "    def feature_3(self):\n",
    "        print('feature_3 from ChildClass is running...')\n",
    "\n",
    "obj = ChildClass()\n",
    "obj.feature_1()\n",
    "obj.feature_2()\n",
    "obj.feature_3()"
   ]
  },
  {
   "cell_type": "markdown",
   "id": "7a69abcb-14cc-4ae5-be12-6bb55d7e0847",
   "metadata": {},
   "source": [
    "### 1. Constructor and inheritance"
   ]
  },
  {
   "cell_type": "code",
   "execution_count": 11,
   "id": "d1cda499-7ef5-4b3d-ae54-6abe417f9ad5",
   "metadata": {},
   "outputs": [
    {
     "name": "stdout",
     "output_type": "stream",
     "text": [
      "inside phone constructor\n",
      "Apple\n"
     ]
    }
   ],
   "source": [
    "class Phone:\n",
    "    def __init__(self, price, brand, camera):\n",
    "        print(\"inside phone constructor\")\n",
    "        self.price = price\n",
    "        self.brand = brand\n",
    "        self.camera = camera \n",
    "class SmartPhone(Phone):\n",
    "    pass\n",
    "\n",
    "s = SmartPhone(200, \"Apple\", 13)\n",
    "print(s.brand)"
   ]
  },
  {
   "cell_type": "markdown",
   "id": "22afea66-e833-46bd-9d06-5d2243e50ead",
   "metadata": {},
   "source": [
    "If the child class doesn't have a constrcutor, so when you make a child classe's object, the parent classe's constructor will be called. "
   ]
  },
  {
   "cell_type": "markdown",
   "id": "84c05a17-768c-4a71-aede-b67904897eab",
   "metadata": {},
   "source": [
    "### 2. Inheriting private members"
   ]
  },
  {
   "cell_type": "code",
   "execution_count": 12,
   "id": "df0d757e-becd-499b-b60d-3fd2c8967be3",
   "metadata": {},
   "outputs": [
    {
     "name": "stdout",
     "output_type": "stream",
     "text": [
      "inside phone constructor\n"
     ]
    }
   ],
   "source": [
    "class Phone:\n",
    "    def __init__(self, price, brand, camera):\n",
    "        print(\"inside phone constructor\")\n",
    "        self.price = price\n",
    "        self.__brand = brand # private\n",
    "        self.camera = camera \n",
    "class SmartPhone(Phone):\n",
    "    pass\n",
    "\n",
    "s = SmartPhone(200, \"Apple\", 13)\n",
    "#unhighlight the print statement below to see what happens:\n",
    "\n",
    "#print(s.__brand)"
   ]
  },
  {
   "cell_type": "markdown",
   "id": "4bec1d9a-30c7-41cb-bf49-375766f0aee5",
   "metadata": {},
   "source": [
    "A child class cannot access the hidden/private members of the parent class. "
   ]
  },
  {
   "cell_type": "markdown",
   "id": "57b6f4c2-7e5c-4bc8-97f5-8b522c2d0222",
   "metadata": {},
   "source": [
    "### 3. Polymorphism"
   ]
  },
  {
   "cell_type": "code",
   "execution_count": 13,
   "id": "9763090e-d277-42f0-8870-b350c5a5495c",
   "metadata": {},
   "outputs": [
    {
     "name": "stdout",
     "output_type": "stream",
     "text": [
      "inside phone constructor\n",
      "Buying a smartphone\n"
     ]
    }
   ],
   "source": [
    "class Phone:\n",
    "    def __init__(self, price, brand, camera):\n",
    "        print(\"inside phone constructor\")\n",
    "        self.price = price\n",
    "        self.brand = brand\n",
    "        self.camera = camera \n",
    "    def buy(self):\n",
    "        print(\"Buying a phone\")\n",
    "        \n",
    "class SmartPhone(Phone):\n",
    "    def buy(self):\n",
    "        print(\"Buying a smartphone\")\n",
    "\n",
    "s = SmartPhone(200, \"Apple\", 13)\n",
    "s.buy()"
   ]
  },
  {
   "cell_type": "markdown",
   "id": "e1b4db55-c263-43fc-ac0e-fb27a821b9c3",
   "metadata": {},
   "source": [
    "If there exists a method in the child and parent class that are the same, the child class will overwrite the parent classe's method. In this example, our child class, SmartPhone, has a method called \"buy\", but we can see that our parent class, Phone, also has a method called \"buy\". Which one will be executed? The child class one. This method is called **overridding.**"
   ]
  },
  {
   "cell_type": "markdown",
   "id": "46c014c7-25c4-4e79-82e0-48178cbefcb7",
   "metadata": {},
   "source": [
    "### 4. Child class's constructor vs Parent class's constructor"
   ]
  },
  {
   "cell_type": "code",
   "execution_count": 15,
   "id": "d7c3a64e-073e-4fc1-825a-9b412a45bf3b",
   "metadata": {},
   "outputs": [],
   "source": [
    "class Parent:\n",
    "    def __init__(self, num):\n",
    "        self.__num = num\n",
    "    def get_num(self):\n",
    "        return self.__num\n",
    "\n",
    "class Child(Parent):\n",
    "    def __init__(self, val, num):\n",
    "        self.__val = val\n",
    "    def get_val(self):\n",
    "        return self.__val\n",
    "\n",
    "son = Child(100,10)\n",
    "\n",
    "#run this print statement to see what error you get:\n",
    "\n",
    "# print(\"Parent:Num:\", son.get_num())\n",
    "# AttributeError: 'Child' object has no attribute '_Parent__num'"
   ]
  },
  {
   "cell_type": "markdown",
   "id": "8e018a63-8f3f-4bd5-99ca-8a8b66713607",
   "metadata": {},
   "source": [
    "If the child class has its own constructor, the parent class's constructor doesn't get called. "
   ]
  },
  {
   "cell_type": "markdown",
   "id": "2c4da085-9249-473d-b7eb-d6f8053cda05",
   "metadata": {},
   "source": [
    "Example problem:"
   ]
  },
  {
   "cell_type": "code",
   "execution_count": 16,
   "id": "19d6f00f-76a3-43eb-872f-765752cad6b9",
   "metadata": {},
   "outputs": [
    {
     "name": "stdout",
     "output_type": "stream",
     "text": [
      "class A: 100\n"
     ]
    }
   ],
   "source": [
    "class A:\n",
    "    def __init__(self):\n",
    "        self.var1 = 100\n",
    "    def display1(self, var1):\n",
    "        print(\"class A:\", self.var1)\n",
    "\n",
    "class B(A):\n",
    "    def display2(self,var1):\n",
    "        print(\"class B:\", self.var1)\n",
    "\n",
    "obj = B()\n",
    "obj.display1(200)"
   ]
  },
  {
   "cell_type": "markdown",
   "id": "e3a04090-9c4e-4c59-9b29-97e1520c6504",
   "metadata": {},
   "source": [
    "Firstly, notice that child class, B, does not have a constructor. That means parent class, A, will run its constructor. Inside the constructor, the value 100 is getting assigned to the attribute self.var1. Then, you call the display1 method and pass in the value 200. What will get printed out? 100 or 200? The answer is 100 since self.var1 stores an attribute, whereas var1 is just a parameter you need to pass in order to run the method. In order to understand this image changing the parameter var1 to num. You will see that num is not used anywhere in the code and is just a parameter. Therefore, the answer is 100:"
   ]
  },
  {
   "cell_type": "code",
   "execution_count": 17,
   "id": "71eac4f2-33be-41f6-a199-b275ffc3bf73",
   "metadata": {},
   "outputs": [
    {
     "name": "stdout",
     "output_type": "stream",
     "text": [
      "class A: 100\n"
     ]
    }
   ],
   "source": [
    "class A:\n",
    "    def __init__(self):\n",
    "        self.var1 = 100\n",
    "    def display1(self, num): # putting num instead of var1\n",
    "        print(\"class A:\", self.var1)\n",
    "\n",
    "class B(A):\n",
    "    def display2(self,var1):\n",
    "        print(\"class B:\", self.var1)\n",
    "\n",
    "obj = B()\n",
    "obj.display1(200)"
   ]
  }
 ],
 "metadata": {
  "kernelspec": {
   "display_name": "Python 3 (ipykernel)",
   "language": "python",
   "name": "python3"
  },
  "language_info": {
   "codemirror_mode": {
    "name": "ipython",
    "version": 3
   },
   "file_extension": ".py",
   "mimetype": "text/x-python",
   "name": "python",
   "nbconvert_exporter": "python",
   "pygments_lexer": "ipython3",
   "version": "3.12.1"
  }
 },
 "nbformat": 4,
 "nbformat_minor": 5
}
