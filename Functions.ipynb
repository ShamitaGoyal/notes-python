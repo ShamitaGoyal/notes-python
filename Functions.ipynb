{
 "cells": [
  {
   "cell_type": "markdown",
   "id": "ad117be6-1285-4380-bce9-6a94260bbe8f",
   "metadata": {},
   "source": [
    "#### <u><center>Functions in Python </u></center>\n",
    "\n",
    "<center>created: 1/5/24</center>\n",
    "\n",
    "------------\n",
    "**<center>Use this to visualize your code:</center>** \n",
    "**<center>https://pythontutor.com/python-compiler.html#mode=edit</center>** "
   ]
  },
  {
   "cell_type": "markdown",
   "id": "39242779-7f80-4c98-9bf7-555e2d524b18",
   "metadata": {},
   "source": [
    "<div style=\"text-align:center;\">\n",
    "    <img src=\"https://media.geeksforgeeks.org/wp-content/uploads/20220721172423/51.png\" alt=\"Description of image\" style=\"width:600px;height:300px;\"/>\n",
    "</div>"
   ]
  },
  {
   "cell_type": "markdown",
   "id": "5a6f4612-10c3-4723-8053-7db9f34a3859",
   "metadata": {},
   "source": [
    "1. When writing a function it is **important to use a docstring** to tell the programmer what your function does. It's also a good practice to describe what your function does because if you were to forget its functionality you could read your docstring to re-jog your memory or understand what it does. "
   ]
  },
  {
   "cell_type": "code",
   "execution_count": 1,
   "id": "9c3155f4-cc3f-42e9-9a14-6fab3381fa88",
   "metadata": {},
   "outputs": [],
   "source": [
    "#create a function by --> def function_name(parameter)\n",
    "def is_even(num):\n",
    "    \"\"\"\n",
    "    This function returns if a given number is odd or even\n",
    "    input - any valid integer\n",
    "    output - odd/even\n",
    "    created on 2/5/2024\n",
    "    \"\"\"\n",
    "    if num % 2 == 0:\n",
    "        return \"even\"\n",
    "    else:\n",
    "        return \"odd\""
   ]
  },
  {
   "cell_type": "code",
   "execution_count": 2,
   "id": "9acd1165-6f83-4ae2-b189-68a78099ef81",
   "metadata": {},
   "outputs": [
    {
     "name": "stdout",
     "output_type": "stream",
     "text": [
      "odd\n",
      "even\n",
      "odd\n",
      "even\n",
      "odd\n",
      "even\n",
      "odd\n",
      "even\n",
      "odd\n",
      "even\n"
     ]
    }
   ],
   "source": [
    "# calling the function--> function_name(argument)\n",
    "for i in range(1,11): \n",
    "    x = is_even(i) \n",
    "    print(x) "
   ]
  },
  {
   "cell_type": "markdown",
   "id": "dbacd6f2-231a-481d-b527-2b1046c5d1d5",
   "metadata": {},
   "source": [
    "Since we wrote a docstring for our function we can search for the function's docstring to read its description. This is a helpful tool, again if you are not sure what the function does. Use this to achieve this:"
   ]
  },
  {
   "cell_type": "code",
   "execution_count": 3,
   "id": "932748f9-1b0f-4d07-a12a-7566afe10e0f",
   "metadata": {},
   "outputs": [
    {
     "data": {
      "text/plain": [
       "'\\n    This function returns if a given number is odd or even\\n    input - any valid integer\\n    output - odd/even\\n    created on 2/5/2024\\n    '"
      ]
     },
     "execution_count": 3,
     "metadata": {},
     "output_type": "execute_result"
    }
   ],
   "source": [
    "is_even.__doc__"
   ]
  },
  {
   "cell_type": "markdown",
   "id": "38b56881-e20f-4466-aa15-b75f99849312",
   "metadata": {},
   "source": [
    "2. Whenever you write functions make sure you handle the errors in your function. It is the job of the programmer making the function **to be clear and completely clear in their function so it does not cause errors for another programmer who is trying to use it.** Essentially, you don't want any weird/error messages pop up on your screen when the function doeesn't get a correct input. "
   ]
  },
  {
   "cell_type": "markdown",
   "id": "29903162-00a0-40bb-8930-3f0971bc1df4",
   "metadata": {},
   "source": [
    "<u>As a general and important concept to keep in mind: </u>\n",
    "- when you create a function --> it passes a **parameter** --> def function(parameter)\n",
    "- when you call a function --> you send an **argument** --> function(argument)"
   ]
  },
  {
   "cell_type": "markdown",
   "id": "cba3fe0a-2e64-4cb7-a960-1cb2227d899a",
   "metadata": {},
   "source": [
    "3. Types of arguments\n",
    "- **default** arguments\n",
    "- **positional** arguments\n",
    "- **keyword** arguments"
   ]
  },
  {
   "cell_type": "markdown",
   "id": "f17c437e-ee15-41e9-af02-371ba869fb66",
   "metadata": {},
   "source": [
    "**<u>Default Arguments</u>** --> it assigns the parameters a default value so you don't get an error"
   ]
  },
  {
   "cell_type": "code",
   "execution_count": 4,
   "id": "ae907291-4df9-46d7-942c-4507653329df",
   "metadata": {},
   "outputs": [
    {
     "data": {
      "text/plain": [
       "1"
      ]
     },
     "execution_count": 4,
     "metadata": {},
     "output_type": "execute_result"
    }
   ],
   "source": [
    "def power(a=1, b=1):\n",
    "    return a**b\n",
    "\n",
    "power()"
   ]
  },
  {
   "cell_type": "markdown",
   "id": "b5a43f0b-5e37-4db9-ac79-75385bb4c29a",
   "metadata": {},
   "source": [
    "**<u>Positional Arguments</u>** --> the order in which you send the arguments is how the parameters will get executed"
   ]
  },
  {
   "cell_type": "code",
   "execution_count": 5,
   "id": "2e9e56a6-1baf-4fcc-b863-eeaa6507f877",
   "metadata": {},
   "outputs": [
    {
     "data": {
      "text/plain": [
       "125"
      ]
     },
     "execution_count": 5,
     "metadata": {},
     "output_type": "execute_result"
    }
   ],
   "source": [
    "def power(a=1, b=1):\n",
    "    return a**b\n",
    "\n",
    "power(5,3) # 5 and 3 are in the order a and b are assigned in the parameters"
   ]
  },
  {
   "cell_type": "markdown",
   "id": "96dde2ec-113c-4c6e-b5ab-d882b531bd34",
   "metadata": {},
   "source": [
    "**<u>Keyword Argument</u>** --> when there are a lot of parameters, you don't need to learn the position just know what the name of the parameter is"
   ]
  },
  {
   "cell_type": "code",
   "execution_count": 6,
   "id": "f97a98e6-b19f-4f61-bec2-ff683f79b653",
   "metadata": {},
   "outputs": [
    {
     "data": {
      "text/plain": [
       "8"
      ]
     },
     "execution_count": 6,
     "metadata": {},
     "output_type": "execute_result"
    }
   ],
   "source": [
    "def power(a=1, b=1):\n",
    "    return a**b\n",
    "    \n",
    "power(b=3, a=2) \n",
    "# doesn't matter if b and a is reversed since you used the keyword to assign a new value\n",
    "# in more complex functions there will be a lot of parameters, so instead of worrying about positional arguments\n",
    "# use keyword arguments"
   ]
  },
  {
   "cell_type": "markdown",
   "id": "4f29252c-9f2f-4590-8ef1-d872ae056638",
   "metadata": {},
   "source": [
    "4. Special keywords in python that are used to pass the variable length of arguments to a function:\n",
    "\n",
    "- *args\n",
    "- **kwargs\n",
    "- order of the arguments matter (normal --> *args --> **kwargs)"
   ]
  },
  {
   "cell_type": "markdown",
   "id": "ba31886f-935c-4a02-aa8b-7f741bc2e06d",
   "metadata": {},
   "source": [
    "*args --> allows us to pass a variable number of non-keyword arguments to a function\n",
    "- though the term is \"args\", you can use whatever you want, you don't have to use args while creating the function, you can use *salman (for example) and it'll work"
   ]
  },
  {
   "cell_type": "code",
   "execution_count": 7,
   "id": "385d6d3d-9777-45ab-83f9-cfdb4e66c37d",
   "metadata": {},
   "outputs": [
    {
     "data": {
      "text/plain": [
       "120"
      ]
     },
     "execution_count": 7,
     "metadata": {},
     "output_type": "execute_result"
    }
   ],
   "source": [
    "def multiply(*args):\n",
    "    product = 1\n",
    "\n",
    "    for i in args:\n",
    "        product = product * i\n",
    "    return product\n",
    "\n",
    "# it automatically stores it in a tuple and you can use the loop for this logic\n",
    "multiply(1,2,3,4,5)"
   ]
  },
  {
   "cell_type": "markdown",
   "id": "39b0fe6c-0567-48bb-97bc-4fc4ed87da81",
   "metadata": {},
   "source": [
    " **kwargs --> allows us to pass any keyword arguments\n",
    "- they cotain a key-value pair, like a python dict"
   ]
  },
  {
   "cell_type": "code",
   "execution_count": 8,
   "id": "f6e190fd-9efa-486c-bc2d-9d23e33ff4cd",
   "metadata": {},
   "outputs": [
    {
     "name": "stdout",
     "output_type": "stream",
     "text": [
      "india --> delhi\n",
      "japan --> tokyo\n",
      "korea --> seoul\n"
     ]
    }
   ],
   "source": [
    "def display(**kwargs):\n",
    "    for k,v in kwargs.items():\n",
    "        print(k, \"-->\", v)\n",
    "\n",
    "display(india=\"delhi\", japan=\"tokyo\", korea=\"seoul\")"
   ]
  },
  {
   "cell_type": "markdown",
   "id": "45326789-6067-4a37-a84f-303ec0beb914",
   "metadata": {},
   "source": [
    "5. How are functions executed in memory? What is your function's lifetime? How long is it active in your RAM?\n",
    "\n",
    "Between the time you call and return the functions, it is active till then. After the function is done excecuting, it doesn't exist in the memory. The function works on its own, seperate from the main program. Even the variables inside the functions have that much life span. "
   ]
  },
  {
   "cell_type": "markdown",
   "id": "b2dd6764-85b2-47a3-8566-49139b60aff2",
   "metadata": {},
   "source": [
    "6. What happens if your function doesn't have a return statement?\n",
    "\n",
    "By default, if your function doesn't include a return statement, it will return **None**. "
   ]
  },
  {
   "cell_type": "code",
   "execution_count": 1,
   "id": "eec17e68-da07-4103-985e-16a766ce56ca",
   "metadata": {},
   "outputs": [
    {
     "name": "stdout",
     "output_type": "stream",
     "text": [
      "8\n"
     ]
    }
   ],
   "source": [
    "def add(x,y):\n",
    "    return x + y # return 5 + 3 = 8\n",
    "    \n",
    "result = add(5,3) # result = 8\n",
    "print(result) # print(8)"
   ]
  },
  {
   "cell_type": "code",
   "execution_count": 2,
   "id": "76892adc-79af-4039-a2bc-f2d5aea53ef2",
   "metadata": {},
   "outputs": [
    {
     "name": "stdout",
     "output_type": "stream",
     "text": [
      "8\n",
      "None\n"
     ]
    }
   ],
   "source": [
    "def add(x,y):\n",
    "    print(x + y) # 8\n",
    "\n",
    "result = add(5,3) # result = None \n",
    "print(result) # print(None)\n",
    "\n",
    "# since the function doesn't have a return statement, by default it returns a None "
   ]
  },
  {
   "cell_type": "code",
   "execution_count": null,
   "id": "28d796bf-d9b8-40a9-8b2a-a4bc9d6c8320",
   "metadata": {},
   "outputs": [],
   "source": [
    "return x + y #returned value can be assigned to a variable or used in further computations\n",
    "print(x + y) #this statement does not return any value back to the caller, it only prints it"
   ]
  },
  {
   "cell_type": "code",
   "execution_count": 5,
   "id": "9432c30a-7de3-4914-9654-f9b9dc2ce9ba",
   "metadata": {},
   "outputs": [
    {
     "name": "stdout",
     "output_type": "stream",
     "text": [
      "8\n",
      "None\n"
     ]
    }
   ],
   "source": [
    "result = print(8)\n",
    "print(result)"
   ]
  },
  {
   "cell_type": "markdown",
   "id": "857342c1-6e2f-412d-bdd0-a2f50a45acb6",
   "metadata": {},
   "source": [
    "7. Global variables vs Local variables\n",
    "\n",
    "- **local variables** -->  are inside your function, you can not use it outside\n",
    "- **global variable** -->  are outside the function, you can use global variable inside the function"
   ]
  },
  {
   "cell_type": "markdown",
   "id": "60dbbb57-2b47-49c6-8bc3-b8fca449f601",
   "metadata": {},
   "source": [
    "8. Nested Functions\n",
    "   - functions that are inside another function\n",
    "\n",
    "General tip:\n",
    "   - the inside function cannot be called since its hidden\n",
    "   - the outside function can only call the inside function\n",
    "\n",
    "For the following examples below use this tool to visualize the complex segements of nested functions: https://pythontutor.com/python-compiler.html#mode=edit"
   ]
  },
  {
   "cell_type": "code",
   "execution_count": 9,
   "id": "ce1a183b-6761-4a63-af42-205cd954ea41",
   "metadata": {},
   "outputs": [
    {
     "name": "stdout",
     "output_type": "stream",
     "text": [
      "5\n",
      "6\n",
      "5\n"
     ]
    }
   ],
   "source": [
    "def g(y):\n",
    "    print(x)\n",
    "    print(x+1)\n",
    "\n",
    "x = 5\n",
    "g(x)\n",
    "print(x)"
   ]
  },
  {
   "cell_type": "code",
   "execution_count": 12,
   "id": "1804b63a-2b23-43c3-a582-9cc4444cebfe",
   "metadata": {
    "scrolled": true
   },
   "outputs": [
    {
     "name": "stdout",
     "output_type": "stream",
     "text": [
      "inside function g\n",
      "inside function f\n"
     ]
    }
   ],
   "source": [
    "def f():\n",
    "    def g():\n",
    "        print(\"inside function g\")\n",
    "    g()\n",
    "    print(\"inside function f\")\n",
    "\n",
    "f()"
   ]
  },
  {
   "cell_type": "code",
   "execution_count": 1,
   "id": "307b24e6-8e9a-4647-aada-81bf3382943c",
   "metadata": {},
   "outputs": [
    {
     "name": "stdout",
     "output_type": "stream",
     "text": [
      "int g(x): x =  4\n"
     ]
    }
   ],
   "source": [
    "def g(x):\n",
    "    def h():\n",
    "        x = \"abc\"\n",
    "    x = x + 1\n",
    "    print(\"int g(x): x = \", x)\n",
    "    h()\n",
    "    return x\n",
    "    \n",
    "x = 3\n",
    "z = g(x)"
   ]
  },
  {
   "cell_type": "code",
   "execution_count": 14,
   "id": "5e56c514-4501-400e-a149-cb24e28cfa40",
   "metadata": {},
   "outputs": [
    {
     "name": "stdout",
     "output_type": "stream",
     "text": [
      "in g(x): x =  4\n",
      "in h(x): x=  5\n",
      "in main program scope: x = 3\n",
      "in main program scope z =  4\n"
     ]
    }
   ],
   "source": [
    "def g(x):\n",
    "    def h(x):\n",
    "        x = x + 1\n",
    "        print(\"in h(x): x= \", x)\n",
    "    x = x + 1\n",
    "    print(\"in g(x): x = \", x)\n",
    "    h(x)\n",
    "    return x\n",
    "\n",
    "x = 3\n",
    "z = g(x)\n",
    "print(\"in main program scope: x =\", x)\n",
    "print(\"in main program scope z = \", z)\n"
   ]
  },
  {
   "cell_type": "markdown",
   "id": "14a1c2a3-b6da-48ca-a925-dc30696d39a8",
   "metadata": {},
   "source": [
    "9. 1st class citizens\n",
    "   - int, float, tuples, lists, float, etc --> first class citizen\n",
    "   - functions are also 1st class citizen\n",
    "  \n",
    "An entity is a first-class citizen if:\n",
    "1. it can be named by variables\n",
    "2. it can be passed as arguments to functions\n",
    "3. it can be returned from functions\n",
    "4. it can be included in data structures\n",
    "\n",
    "Data and functions are **both** first class-citizens. This may not be true for other programming languages. "
   ]
  },
  {
   "cell_type": "code",
   "execution_count": 17,
   "id": "2c33379a-c812-4f68-8393-f7c19fb442f4",
   "metadata": {},
   "outputs": [
    {
     "name": "stdout",
     "output_type": "stream",
     "text": [
      "<class 'function'>\n",
      "4398572672\n"
     ]
    }
   ],
   "source": [
    "#type and id\n",
    "def square(num):\n",
    "    return num ** 2\n",
    "\n",
    "print(type(square))\n",
    "print(id(square))"
   ]
  },
  {
   "cell_type": "code",
   "execution_count": 19,
   "id": "8655d6c8-9465-4927-8ba4-eceac51e25a0",
   "metadata": {},
   "outputs": [
    {
     "name": "stdout",
     "output_type": "stream",
     "text": [
      "4398572672\n",
      "9\n",
      "2\n"
     ]
    }
   ],
   "source": [
    "# reassign\n",
    "x = square\n",
    "print(id(x))\n",
    "print(x(3)) # now x is also the square function, square function has a name of x now\n",
    "\n",
    "# this is the same as:\n",
    "a = 2\n",
    "b = a\n",
    "print(b)"
   ]
  },
  {
   "cell_type": "code",
   "execution_count": null,
   "id": "7eaef2e6-258d-4d59-beb6-fe384420b687",
   "metadata": {},
   "outputs": [],
   "source": [
    "# del function --> to delete a function\n",
    "del square"
   ]
  },
  {
   "cell_type": "code",
   "execution_count": 20,
   "id": "c62976d6-9338-44aa-b63f-e46e4fa9c81d",
   "metadata": {},
   "outputs": [
    {
     "data": {
      "text/plain": [
       "9"
      ]
     },
     "execution_count": 20,
     "metadata": {},
     "output_type": "execute_result"
    }
   ],
   "source": [
    "# storing\n",
    "L = [1,2,3,4, square]\n",
    "L[-1](3)"
   ]
  },
  {
   "cell_type": "code",
   "execution_count": null,
   "id": "0abc00af-a4cf-4261-9c5c-b21f2d393cd7",
   "metadata": {},
   "outputs": [],
   "source": [
    "# is function immutable or mutable then? there is a way to test it:\n",
    "s = {square} # --> therefore function is immutable"
   ]
  },
  {
   "cell_type": "code",
   "execution_count": 21,
   "id": "0b65a957-b52a-4e48-a177-c106db9de00f",
   "metadata": {},
   "outputs": [
    {
     "name": "stdout",
     "output_type": "stream",
     "text": [
      "inside func_c\n",
      "inside func_a\n",
      "None\n"
     ]
    }
   ],
   "source": [
    "# function input in function\n",
    "def func_a():\n",
    "    print(\"inside func_a\")\n",
    "\n",
    "def fun_b(z):\n",
    "    print(\"inside func_c\")\n",
    "    return z()\n",
    "\n",
    "print(fun_b(func_a))"
   ]
  }
 ],
 "metadata": {
  "kernelspec": {
   "display_name": "Python 3 (ipykernel)",
   "language": "python",
   "name": "python3"
  },
  "language_info": {
   "codemirror_mode": {
    "name": "ipython",
    "version": 3
   },
   "file_extension": ".py",
   "mimetype": "text/x-python",
   "name": "python",
   "nbconvert_exporter": "python",
   "pygments_lexer": "ipython3",
   "version": "3.12.1"
  }
 },
 "nbformat": 4,
 "nbformat_minor": 5
}
