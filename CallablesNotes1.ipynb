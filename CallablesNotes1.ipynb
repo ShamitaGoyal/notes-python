{
 "cells": [
  {
   "cell_type": "markdown",
   "id": "4ca58ac1-be99-451f-b000-cc82e4cf545f",
   "metadata": {},
   "source": [
    "# <div style=\"text-align:center;\">Callables — lambda, map, reduce, filter, & sorted pt.1</div>\n",
    "<div style=\"text-align:center;\">4/15/24</div>"
   ]
  },
  {
   "cell_type": "markdown",
   "id": "d58ed0c9-39cf-45f6-8350-ffa2ff8d5a73",
   "metadata": {},
   "source": [
    "## Callables \n",
    "- an object that can be **called, executed**\n",
    "- common callables are: **functions & methods** --> class bound functions\n",
    "- when we call a function ==> the list of data values we pass to the function is called the **argument list** ==> each data in the list is an **input argument**\n",
    "  - **everything in Python is an object**, so every data this is passed to a function is a **reference**\n",
    "  - the data mutable or immutable (the difference)\n",
    " \n",
    "\n",
    "## Function calls\n",
    "- ex. if functionA is called from inside another functionB (not in global space), then Python doesn't need to see the definition for functionA before the call\n",
    "- recall **keyword arguments** and **positional arguments**\n",
    "- default parameters for **immutable** data types can have any default value that's appropriate for the application\n",
    "- default parameters for **mutable** data types should always default to **None**"
   ]
  },
  {
   "cell_type": "code",
   "execution_count": null,
   "id": "7e4afd94-ef2f-47dc-b7e7-6cb209504c2c",
   "metadata": {},
   "outputs": [],
   "source": [
    "def printStudentInfo(id, name, gpa=0.0, classList=None):\n",
    "    if not classList: classList = []\n",
    "        # code"
   ]
  },
  {
   "cell_type": "markdown",
   "id": "644e9ea5-9457-41f6-83fb-2636af558283",
   "metadata": {},
   "source": [
    "- gpa is <u>immutable</u> and can be defaul to 0.0 or any float\n",
    "- classList is <u>mutable</u> and can only default to None\n",
    "  - classList can be set to [] if the caller doesn't pass any input value"
   ]
  },
  {
   "cell_type": "markdown",
   "id": "4701a10d-a63a-47c6-a6bc-6d0939a7b21f",
   "metadata": {},
   "source": [
    "**classList should not default to [] in the parameter list:**"
   ]
  },
  {
   "cell_type": "code",
   "execution_count": null,
   "id": "d30ca946-4ba6-4626-abb3-37e785517e05",
   "metadata": {},
   "outputs": [],
   "source": [
    "def printStudentInfo(id, name, gpa = 0.0, classList = [ ]): # Problem!!\n",
    "    pass"
   ]
  },
  {
   "cell_type": "markdown",
   "id": "8fc77a7a-ba7e-4b4e-9362-6cc664dc5383",
   "metadata": {},
   "source": [
    "- classList should not be defaulted to [] in the parameter list because default values are **initialized once**, when the function is defined, and not initialized every time the function is called\n",
    "- by initializing classList to [] inside the boy of the function, each call to printStudentInfo gets its own default empty list"
   ]
  },
  {
   "cell_type": "markdown",
   "id": "31f325b1-ad00-4f3f-99a7-5be67b4e2be5",
   "metadata": {},
   "source": [
    "## Variable Length Argument List\n",
    "- take advantage of the packing operator, we can write a function that accepts any number of input arguments "
   ]
  },
  {
   "cell_type": "code",
   "execution_count": 2,
   "id": "7d58dde6-40ad-42b6-97c2-55c188cfe3b4",
   "metadata": {},
   "outputs": [
    {
     "data": {
      "text/plain": [
       "((5, 8), {'opt1': 3, 'opt2': 6})"
      ]
     },
     "execution_count": 2,
     "metadata": {},
     "output_type": "execute_result"
    }
   ],
   "source": [
    "def aFunction(*args, **kwargs):\n",
    "    return args,kwargs\n",
    "\n",
    "aFunction(5,8,opt1=3, opt2=6)"
   ]
  },
  {
   "cell_type": "markdown",
   "id": "a61eb840-b553-4835-831f-d35cd857268d",
   "metadata": {},
   "source": [
    "- args --> is a tuple and the * operator packs all positional arguments into the args tuple\n",
    "- kwargs --> is a dictionary and the ** operator packs all the keyword arguments into the kwargs dict with the parameter name as key, argument value as the corresponding vvalue "
   ]
  },
  {
   "cell_type": "code",
   "execution_count": 5,
   "id": "67bc05d3-0909-4af8-8ea5-f777c1610dca",
   "metadata": {},
   "outputs": [
    {
     "name": "stdout",
     "output_type": "stream",
     "text": [
      "16\n",
      "120\n",
      "3\n"
     ]
    }
   ],
   "source": [
    "def product(*args):\n",
    "    result = 1\n",
    "    for arg in args:\n",
    "        result *=arg\n",
    "    return result \n",
    "\n",
    "print(product(2,8))\n",
    "print(product(1,2,3,4,5))\n",
    "print(product(3))"
   ]
  },
  {
   "cell_type": "code",
   "execution_count": 6,
   "id": "aecfc0c9-c85c-4ef7-9f15-5ab5a4c7bbda",
   "metadata": {},
   "outputs": [
    {
     "name": "stdout",
     "output_type": "stream",
     "text": [
      "Name: Jessica\n",
      "major CS\n",
      "Name: Shah Rukh Khan\n",
      "year 56\n",
      "gpa 3.8\n"
     ]
    }
   ],
   "source": [
    "def printStudent(name, **kwargs):\n",
    "    print(\"Name:\", name)\n",
    "    for k,v in kwargs.items():\n",
    "        print(k,v)\n",
    "\n",
    "printStudent(\"Jessica\", major=\"CS\")\n",
    "printStudent(\"Shah Rukh Khan\", year=56, gpa=3.8)"
   ]
  },
  {
   "cell_type": "markdown",
   "id": "629c8f07-0a3c-4201-81cd-f6e96bad2174",
   "metadata": {},
   "source": [
    "## Data Type Hints\n",
    "- in a large project it can be helpful to give **hints** to the type of data that a variable should have\n",
    "- here's how you format a function header for data type hints:\n",
    "  - return_type --> ex. bool, list, str, int, etc\n",
    "  - type --> ex. ex. bool, list, str, int, etc\n",
    "\n",
    "\n",
    "#### <center>def functionName(param1: _type_, param2: _type_) -> _return_type_ :</center>"
   ]
  },
  {
   "cell_type": "code",
   "execution_count": 8,
   "id": "8465a701-52bf-4092-81f0-4bded40644b0",
   "metadata": {},
   "outputs": [],
   "source": [
    "def functionName(param1: type, param2: type) -> return_type :\n",
    "    pass\n",
    "\n",
    "#ex.\n",
    "\n",
    "def processDaa(users: list, name: dict, active: bool) -> None :\n",
    "    pass"
   ]
  },
  {
   "cell_type": "markdown",
   "id": "93e7ec54-901b-4ee1-8b17-810399762ae0",
   "metadata": {},
   "source": [
    "## Referencing Function\n",
    "\n",
    "Functions can be:\n",
    "1. created and deleted from memory\n",
    "2. referenced as a variable\n",
    "3. passed to another function as input argument, and returned from another function"
   ]
  },
  {
   "cell_type": "code",
   "execution_count": 11,
   "id": "5a843eb1-25bd-495f-b366-1e16fc702e8b",
   "metadata": {},
   "outputs": [
    {
     "name": "stdout",
     "output_type": "stream",
     "text": [
      "a function\n",
      "a function\n",
      "a function\n"
     ]
    }
   ],
   "source": [
    "myList = [1]\n",
    "\n",
    "def f():\n",
    "    print(\"a function\")\n",
    "\n",
    "f() #calling the function\n",
    "myfunction = f  # myfunction refers to the same memory as f\n",
    "myfunction() # memory location named myfunction is also named f \n",
    "\n",
    "myList.append(f)\n",
    "myList[-1]() # calling the function from the list"
   ]
  },
  {
   "cell_type": "markdown",
   "id": "59fca0f2-42a6-40b9-b03b-65b7d8687166",
   "metadata": {},
   "source": [
    "### Examples:\n",
    "- suppose we have several functions that process a user choice --> based on the user choice (1,2,3...) a corresponding function is called:"
   ]
  },
  {
   "cell_type": "markdown",
   "id": "a7ac840e-8a7e-4cd6-99ac-554d11edeb2e",
   "metadata": {},
   "source": [
    "#### 1)"
   ]
  },
  {
   "cell_type": "code",
   "execution_count": null,
   "id": "ed6ac1e5-7a08-4a8c-a31a-9d0a302c62e5",
   "metadata": {},
   "outputs": [],
   "source": [
    "if userInput == 1 :\n",
    "    doTask1(inputArg)\n",
    "elif userInput == 2 :\n",
    "    doTask2(inputArg)\n",
    "elif userInput == 3 :\n",
    "    doTask3(inputArg)\n",
    "else :\n",
    "    do Task4(inputArg)"
   ]
  },
  {
   "cell_type": "markdown",
   "id": "e4247196-0d43-407d-a234-c91c21e7007c",
   "metadata": {},
   "source": [
    "But Python let's us shorten the code doing this: "
   ]
  },
  {
   "cell_type": "code",
   "execution_count": null,
   "id": "c554aae0-2c30-442d-bd16-7994fea15ea9",
   "metadata": {},
   "outputs": [],
   "source": [
    "# each item after the 0 is a function \n",
    "taskList = [0, doTask1, dotask2, doTask3, doTask4]\n",
    "\n",
    "# indexing the task list by choice than doing () to call that \n",
    "# function from the index \n",
    "taskList[userInput](inputArg)"
   ]
  },
  {
   "cell_type": "markdown",
   "id": "f0b2b6e1-21b4-4b04-a5b6-9352cdc37fe9",
   "metadata": {},
   "source": [
    "#### 2)"
   ]
  },
  {
   "cell_type": "code",
   "execution_count": 14,
   "id": "16ff8486-8da1-41d1-92c8-233e031a1d68",
   "metadata": {},
   "outputs": [
    {
     "name": "stdout",
     "output_type": "stream",
     "text": [
      "[2, 4, 6, 8, 10]\n",
      "[11, 12, 13, 14, 15]\n"
     ]
    }
   ],
   "source": [
    "def doubling(n) :\n",
    "    return 2 * n\n",
    "    \n",
    "def add10(n) :\n",
    "    return 10 + n\n",
    "\n",
    "def generateNums(f) : # argument is a function\n",
    "    resultList = [f(n) for n in range(1,6)]\n",
    "    print(resultList)\n",
    "\n",
    "# passing functions into functions\n",
    "generateNums(doubling)\n",
    "generateNums(add10) "
   ]
  },
  {
   "cell_type": "markdown",
   "id": "74117d5b-d04e-468a-8116-0727aa8854b2",
   "metadata": {},
   "source": [
    "<div style=\"text-align:center;\">\n",
    "    <img src=\"https://miro.medium.com/v2/resize:fit:1400/format:webp/1*6sqWjWdlUZEAClscqMbfGQ.jpeg\" style=\"float:left; width:300px; margin right:10px;\"/>\n",
    "</div>\n"
   ]
  },
  {
   "cell_type": "markdown",
   "id": "5af9227a-abf6-4168-a529-8efb5b4fdd32",
   "metadata": {},
   "source": [
    "## 1) <u>Lambda Expression</u>\n",
    "- an anonymous function (a function without a name)\n",
    "- the function body is short\n",
    "- lambda expressions are typically used as an input argument to another function where it requires a function input argument\n",
    "\n",
    "#### <center>lambda param_list : expression </center>"
   ]
  },
  {
   "cell_type": "markdown",
   "id": "1040fc07-e481-406f-aa0d-308957855d11",
   "metadata": {},
   "source": [
    "<div style=\"text-align:center;\">\n",
    "    <img src=\"https://www.softwaretestinghelp.com/wp-content/qa/uploads/2021/02/fig1_lambda-expression.jpg\" style=\"float:left; width:300px; margin right:10px;\"/>\n",
    "</div>\n"
   ]
  },
  {
   "cell_type": "markdown",
   "id": "fa2f4bfb-458b-40b7-9f20-8e9142ec9110",
   "metadata": {},
   "source": [
    "- instead of a function name, lambda keyword is used\n",
    "- param_list --> comma seperated list of input parameters\n",
    "- colon --> is required\n",
    "- expression --> function body "
   ]
  },
  {
   "cell_type": "markdown",
   "id": "cfe982fb-8520-44d5-8013-6b439c2ebc1d",
   "metadata": {},
   "source": [
    "### Difference between a function and lambda:\n",
    "- lambda has no return value, it returns the entire function\n",
    "- written in only one line\n",
    "- not used for code reusability\n",
    "- no name\n",
    "\n",
    "### Why to use lambda?\n",
    "- along with higher order functions (HOF)\n",
    "  - HOF --> takes a function as an input or return value is a function "
   ]
  },
  {
   "cell_type": "code",
   "execution_count": 15,
   "id": "7c9b0ec6-73d8-4983-a673-761c3778b3ea",
   "metadata": {},
   "outputs": [
    {
     "name": "stdout",
     "output_type": "stream",
     "text": [
      "5\n"
     ]
    }
   ],
   "source": [
    "print((lambda x,y: x+y)(2,3))"
   ]
  },
  {
   "cell_type": "markdown",
   "id": "fe4afdbe-f870-4c8a-a99d-78036df437c5",
   "metadata": {},
   "source": [
    "- 2 parameters --> x & y\n",
    "- a function body --> expression x + y"
   ]
  },
  {
   "cell_type": "markdown",
   "id": "9d009fdd-a1be-4db3-a6f9-3c811cb76ae8",
   "metadata": {},
   "source": [
    "### 1)"
   ]
  },
  {
   "cell_type": "code",
   "execution_count": 29,
   "id": "3e35c2c6-c93e-49ac-8e21-b954e85185d1",
   "metadata": {},
   "outputs": [
    {
     "name": "stdout",
     "output_type": "stream",
     "text": [
      "True\n",
      "False\n"
     ]
    }
   ],
   "source": [
    "b = lambda x: x[0] == \"a\"\n",
    "print(b(\"apple\"))\n",
    "print(b(\"banana\"))"
   ]
  },
  {
   "cell_type": "markdown",
   "id": "cbedfc02-d3dc-4268-a46b-a4562839daf6",
   "metadata": {},
   "source": [
    "### 2)"
   ]
  },
  {
   "cell_type": "code",
   "execution_count": 32,
   "id": "2c83cfc6-8f67-48ec-bf2c-4c91cba06a85",
   "metadata": {},
   "outputs": [
    {
     "name": "stdout",
     "output_type": "stream",
     "text": [
      "odd\n",
      "even\n"
     ]
    }
   ],
   "source": [
    "b = lambda x: \"even\" if x%2==0 else \"odd\"\n",
    "print(b(3))\n",
    "print(b(4))"
   ]
  },
  {
   "cell_type": "markdown",
   "id": "8478bd16-1fc1-4e46-a24e-914cd6c45e53",
   "metadata": {},
   "source": [
    "### 3)"
   ]
  },
  {
   "cell_type": "code",
   "execution_count": 37,
   "id": "8751d7f1-0aae-43a8-99b5-aec5249caaee",
   "metadata": {},
   "outputs": [
    {
     "name": "stdout",
     "output_type": "stream",
     "text": [
      "even sum: 176\n",
      "odd sum: 129\n",
      "divisible by 3 sum: 144\n"
     ]
    }
   ],
   "source": [
    "L = [11,14,21,23,56,78,45,29,28]\n",
    "\n",
    "def return_sum(func,L):\n",
    "    result = 0\n",
    "    for i in L:\n",
    "        if func(i):\n",
    "            result = result + i\n",
    "    return result\n",
    "\n",
    "x = lambda x: x%2 ==0\n",
    "y = lambda x: x%2 != 0\n",
    "z = lambda x: x%3 == 0\n",
    "\n",
    "print(\"even sum:\",return_sum(x,L))\n",
    "print(\"odd sum:\", return_sum(y,L))\n",
    "print(\"divisible by 3 sum:\", return_sum(z,L))\n"
   ]
  },
  {
   "cell_type": "markdown",
   "id": "a9073364-8bde-49f0-bb3f-2a2c99ae1edf",
   "metadata": {},
   "source": [
    "## 2) <u>Sorted Function</u>\n",
    "- takes an iterable as input and returns an ordered iterable that is sorted in ascending or descending order "
   ]
  },
  {
   "cell_type": "code",
   "execution_count": 16,
   "id": "9c3dd3aa-bb12-45f6-bf92-666505e29cf6",
   "metadata": {},
   "outputs": [
    {
     "name": "stdout",
     "output_type": "stream",
     "text": [
      "[(14, 10, 23), (5, 19, 23), (9, 25, 17), (27, 31, 12)]\n"
     ]
    }
   ],
   "source": [
    "L1 = [ (5, 19, 23), (27, 31, 12), (9, 25, 17), (14, 10, 23) ]\n",
    "print( sorted(L1, key=lambda t : t[1]) ) # sort by 2nd element\n"
   ]
  },
  {
   "cell_type": "markdown",
   "id": "a90d962c-01c2-4c18-97da-b8b409e7c0ba",
   "metadata": {},
   "source": [
    "## 3) <u>Map Function</u>\n",
    "- takes 2 input arguments: a function name and an iterable\n",
    "- map function will apply the input function to each element of the input iterable and return an interator, which can be converted to an interable\n",
    "\n",
    "#### <center> map(aFunction, anIterable) </center>"
   ]
  },
  {
   "cell_type": "markdown",
   "id": "1b1ddb90-90e1-41a8-870b-3b40dc6ae222",
   "metadata": {},
   "source": [
    "### 1)"
   ]
  },
  {
   "cell_type": "code",
   "execution_count": 25,
   "id": "b6aa1e87-6dd0-481e-b329-5144b89c0772",
   "metadata": {},
   "outputs": [
    {
     "name": "stdout",
     "output_type": "stream",
     "text": [
      "[2, 3, 4, 5]\n",
      "[2, 3, 4, 5]\n"
     ]
    }
   ],
   "source": [
    "origList = [1, 2, 3, 4]\n",
    "\n",
    "def add1(n) :\n",
    "    return n+1\n",
    "\n",
    "# 1) using a named function\n",
    "newList1 = list(map(add1, origList)) \n",
    "\n",
    "# 2) using a lambda expression,\n",
    "# no need to define add1()\n",
    "newList2 = list(map(lambda n: n+1, origList)) \n",
    "\n",
    "print(newList1)\n",
    "print(newList2)"
   ]
  },
  {
   "cell_type": "markdown",
   "id": "4a7fa38a-d79a-4898-998e-1b1fb0beccdb",
   "metadata": {},
   "source": [
    "### 2)"
   ]
  },
  {
   "cell_type": "code",
   "execution_count": 42,
   "id": "a3bcf022-0dd7-49d1-9ae4-b7a805e57fab",
   "metadata": {},
   "outputs": [
    {
     "name": "stdout",
     "output_type": "stream",
     "text": [
      "<map object at 0x1075dc3a0>\n",
      "[2, 4, 6, 8, 10, 12, 14, 16]\n"
     ]
    }
   ],
   "source": [
    "L = [1,2,3,4,5,6,7,8]\n",
    "print(map(lambda x: x*2, L)) # it will make a map object\n",
    "print(list(map(lambda x: x*2, L)))"
   ]
  },
  {
   "cell_type": "code",
   "execution_count": 44,
   "id": "e3344dad-43de-408d-8924-cce4907d98bd",
   "metadata": {},
   "outputs": [
    {
     "data": {
      "text/plain": [
       "[False, True, False, True, False, True, False, True]"
      ]
     },
     "execution_count": 44,
     "metadata": {},
     "output_type": "execute_result"
    }
   ],
   "source": [
    "list(map(lambda x: x%2==0, L))"
   ]
  },
  {
   "cell_type": "markdown",
   "id": "c99c074a-6cf3-4bad-aafa-babf6f28c1d9",
   "metadata": {},
   "source": [
    "### 3)"
   ]
  },
  {
   "cell_type": "code",
   "execution_count": 46,
   "id": "01fe9b78-721e-496c-8166-ab079283e5ad",
   "metadata": {},
   "outputs": [
    {
     "data": {
      "text/plain": [
       "['jacob', 'jessica']"
      ]
     },
     "execution_count": 46,
     "metadata": {},
     "output_type": "execute_result"
    }
   ],
   "source": [
    "students = [\n",
    "    {\"name\": \"jacob\",\n",
    "     \"father name\": \"ross\"\n",
    "    },\n",
    "    { \"name\": \"jessica\",\n",
    "     \"father name\": \"jack\"\n",
    "    }\n",
    "]\n",
    "\n",
    "list(map(lambda student: student[\"name\"], students))"
   ]
  },
  {
   "cell_type": "markdown",
   "id": "af8c9a88-cb1f-4460-b9b6-fb03200e0e20",
   "metadata": {},
   "source": [
    "## 4) <u>Filter Function</u>\n",
    "- takes 2 input arguments: a function name and an iterable\n",
    "- input function must return True or False\n",
    "- applies the input function to each element of the input iterable, and only elements that evaluate to True will be returned as part of an iterator\n",
    "\n",
    "#### <center> filter(boolFunction, anIterable) </center>"
   ]
  },
  {
   "cell_type": "markdown",
   "id": "10994770-87f2-4270-b25c-50361ea3a195",
   "metadata": {},
   "source": [
    "### 1)"
   ]
  },
  {
   "cell_type": "code",
   "execution_count": 27,
   "id": "f97b6745-97fe-4d62-9f71-30074b37983a",
   "metadata": {},
   "outputs": [
    {
     "data": {
      "text/plain": [
       "(10, 30, 45)"
      ]
     },
     "execution_count": 27,
     "metadata": {},
     "output_type": "execute_result"
    }
   ],
   "source": [
    "origTuple = (1,10,2,30,5,7,45)\n",
    "newTup = tuple(filter(lambda n: n>=10, origTuple))\n",
    "newTup"
   ]
  },
  {
   "cell_type": "markdown",
   "id": "b7044b62-e4d2-49fa-adad-135780af0894",
   "metadata": {},
   "source": [
    "### 2)"
   ]
  },
  {
   "cell_type": "code",
   "execution_count": 48,
   "id": "c8cf720a-34cd-40d8-a702-205f2be236a4",
   "metadata": {},
   "outputs": [
    {
     "data": {
      "text/plain": [
       "[5, 6, 7]"
      ]
     },
     "execution_count": 48,
     "metadata": {},
     "output_type": "execute_result"
    }
   ],
   "source": [
    "L = [1,2,3,4,5,6,7]\n",
    "list(filter(lambda x:x>4, L))"
   ]
  },
  {
   "cell_type": "markdown",
   "id": "8a1811c4-cf6e-4d8e-b8c1-8d9696b4d945",
   "metadata": {},
   "source": [
    "### 3)"
   ]
  },
  {
   "cell_type": "code",
   "execution_count": 51,
   "id": "092741dd-5f54-4f52-a61c-22acd37b5061",
   "metadata": {},
   "outputs": [
    {
     "data": {
      "text/plain": [
       "['mango', 'orange', 'grapes']"
      ]
     },
     "execution_count": 51,
     "metadata": {},
     "output_type": "execute_result"
    }
   ],
   "source": [
    "fruits = [\"apple\", \"mango\", \"orange\", \"grapes\", \"strawberry\"]\n",
    "list(filter(lambda fruit: \"g\" in fruit, fruits))"
   ]
  },
  {
   "cell_type": "markdown",
   "id": "4cce7561-f70f-41cb-8e9a-046549a21c53",
   "metadata": {},
   "source": [
    "- generally python programmers prefer to use comprehension and generator instead of map and filter when the input function is simple\n",
    "- comprehension and generator don't require a lambda expression for the simple case\n",
    "- map and filter are more likely used by those **doing functional programming, and when there is a named function that needs to be applied to the iterable**"
   ]
  },
  {
   "cell_type": "markdown",
   "id": "d9041ada-f3b9-4bb1-96e0-493bce044dc3",
   "metadata": {},
   "source": [
    "## 5) <u>Reduce Function</u>\n",
    "- typically discussed together with map and filter since all 3 functions work with an iterable\n",
    "- reduce is not part of the python core and must be imported with:\n",
    "  - **from functools import reduce**\n",
    "- takes 2 input arguments: a functon name and an interable\n",
    "\n",
    "#### <center> reduce(functionWith2InputArgs, anIterable)</center>"
   ]
  },
  {
   "cell_type": "code",
   "execution_count": 53,
   "id": "aa98ce98-42cf-4d17-9562-b8aafecc9bc7",
   "metadata": {},
   "outputs": [],
   "source": [
    "from functools import reduce"
   ]
  },
  {
   "cell_type": "code",
   "execution_count": 52,
   "id": "5331643c-efda-45a5-b109-16b55fd55bd8",
   "metadata": {},
   "outputs": [
    {
     "data": {
      "text/plain": [
       "15"
      ]
     },
     "execution_count": 52,
     "metadata": {},
     "output_type": "execute_result"
    }
   ],
   "source": [
    "L = [1,2,3,4,5]\n",
    "result = reduce(lambda x,y: x+y, L)\n",
    "result"
   ]
  },
  {
   "cell_type": "markdown",
   "id": "35be5d42-9f3d-4bfe-9ef2-0c5269a7a1af",
   "metadata": {},
   "source": [
    "<div style=\"text-align:center;\">\n",
    "    <img src=\"https://www.kodeclik.com/assets/python-reduce-function.png\" style=\"float:left; width:200px; margin right:10px;\"/>\n",
    "</div>\n"
   ]
  },
  {
   "cell_type": "code",
   "execution_count": 54,
   "id": "6af3c7b2-9232-41d2-bbe6-0e8a1207e8b3",
   "metadata": {},
   "outputs": [
    {
     "data": {
      "text/plain": [
       "98"
      ]
     },
     "execution_count": 54,
     "metadata": {},
     "output_type": "execute_result"
    }
   ],
   "source": [
    "L1 = [1,2,34,56,11,51,98]\n",
    "reduce(lambda x,y: x if x > y else y, L1)"
   ]
  },
  {
   "cell_type": "markdown",
   "id": "ca88e5f9-02ec-4267-b09c-751169758d98",
   "metadata": {},
   "source": [
    "<div style=\"text-align:center;\">\n",
    "    <img src=\"https://miro.medium.com/v2/resize:fit:1400/1*iGaQRrKrUO3uiBkyA1rnZw.png\" style=\"float:left; width:300px; margin right:10px;\"/>\n",
    "</div>\n"
   ]
  }
 ],
 "metadata": {
  "kernelspec": {
   "display_name": "Python 3 (ipykernel)",
   "language": "python",
   "name": "python3"
  },
  "language_info": {
   "codemirror_mode": {
    "name": "ipython",
    "version": 3
   },
   "file_extension": ".py",
   "mimetype": "text/x-python",
   "name": "python",
   "nbconvert_exporter": "python",
   "pygments_lexer": "ipython3",
   "version": "3.12.1"
  }
 },
 "nbformat": 4,
 "nbformat_minor": 5
}
