{
 "cells": [
  {
   "cell_type": "markdown",
   "id": "19a71cb0-5160-40d7-9b94-0ff7108ba5c5",
   "metadata": {},
   "source": [
    "## <center>2. CREATING YOUR OWN DATA TYPES USING OOP</center>"
   ]
  },
  {
   "attachments": {},
   "cell_type": "markdown",
   "id": "954608c7-c61d-4f3c-bac0-6d3af874b202",
   "metadata": {},
   "source": [
    "### Data types in Python:\n",
    "\n",
    "\n",
    "\n",
    "<div style=\"text-align:center;\">\n",
    "    <img src=\"https://pynative.com/wp-content/uploads/2021/02/python-data-types.jpg\" style=\"float:left; width:300px; margin right:10px;\"/> <img src=\"https://i.pinimg.com/564x/12/48/f1/1248f1a6bce23b4535443b2db963c9ed.jpg\" style=\"float:left; width:300px;\"/>\n",
    "</div>\n"
   ]
  },
  {
   "cell_type": "markdown",
   "id": "86098214-3271-4438-b2d8-9a9c1cfa505c",
   "metadata": {},
   "source": [
    "##### Python doesn't deal with fractions like we have in real life. What if we make a fraction class that handels the operations like fractions do in real life?"
   ]
  },
  {
   "cell_type": "code",
   "execution_count": 23,
   "id": "0d6eef86-504e-4c06-b551-24d74122e2b7",
   "metadata": {},
   "outputs": [],
   "source": [
    "class Fraction:\n",
    "    def __init__(self, n, d):\n",
    "        self.num = n\n",
    "        self.den = d \n",
    "\n",
    "    def __str__(self):\n",
    "        return f'{self.num}/{self.den}'\n",
    "\n",
    "    def __add__(self, other):\n",
    "        temp_num = self.num * other.den + other.num * self.den\n",
    "        temp_den = self.den * other.den\n",
    "        return f'{temp_num}/{temp_den}'\n",
    "\n",
    "    def __sub__(self, other):\n",
    "            temp_num = self.num * other.den - other.num * self.den\n",
    "            temp_den = self.den * other.den\n",
    "            return f'{temp_num}/{temp_den}'\n",
    "        \n",
    "    def __mul__(self, other):\n",
    "        temp_num = self.num * other.num\n",
    "        temp_den = self.den * other.den\n",
    "        return f'{temp_num}/{temp_den}'\n",
    "\n",
    "    def __truediv__(self, other):\n",
    "            temp_num = self.num * other.den \n",
    "            temp_den = self.den * other.num\n",
    "            return f'{temp_num}/{temp_den}'\n"
   ]
  },
  {
   "cell_type": "code",
   "execution_count": 26,
   "id": "9f5b6a5a-e46b-4b3d-bbe0-e2d0c0303a4a",
   "metadata": {},
   "outputs": [
    {
     "name": "stdout",
     "output_type": "stream",
     "text": [
      "4/5\n",
      "49/30\n",
      "20/30\n",
      "24/25\n",
      "-1/30\n"
     ]
    }
   ],
   "source": [
    "x = Fraction(4,5)\n",
    "print(x)\n",
    "\n",
    "y = Fraction(5,6)\n",
    "print(x+y)\n",
    "\n",
    "print(x * y)\n",
    "print(x/y)\n",
    "print(x-y)"
   ]
  },
  {
   "cell_type": "markdown",
   "id": "3b5edf95-eb42-4910-877f-e43d62a993b5",
   "metadata": {},
   "source": [
    "## Encapsulation"
   ]
  },
  {
   "cell_type": "markdown",
   "id": "f20bd3bd-3b11-4e36-8b11-0fbefc983470",
   "metadata": {},
   "source": [
    " -  means hiding the internal state of an object and controlling access to it through well-defined methods\n",
    " -  it helps keep your code organized, secure, and easier to maintain by preventing unauthorized access and manipulation of data\n",
    " - when you create a class it is not a good practice to leave your data open for the user"
   ]
  },
  {
   "cell_type": "markdown",
   "id": "b2cdf629-ce58-4dc0-a3b4-83dbbdc33ba1",
   "metadata": {},
   "source": [
    "<div style=\"text-align:center;\">\n",
    "    <img src=\"https://pynative.com/wp-content/uploads/2021/08/python_data_hiding.jpg\" alt=\"Description of image\" style=\"width:550px;height:300px;\"/>\n",
    "</div>"
   ]
  },
  {
   "cell_type": "code",
   "execution_count": 30,
   "id": "e905e8e3-2dc9-4227-b2ab-b726cc6b6d45",
   "metadata": {},
   "outputs": [],
   "source": [
    "class AtmP:\n",
    "    def __init__(self):\n",
    "        self.pin = \"\"\n",
    "        self.balance = 0\n",
    "        self.menu()\n",
    "    def menu(self):\n",
    "        pass\n",
    "    def deposit(self):\n",
    "        pass\n",
    "    def withdraw(self):\n",
    "        pass"
   ]
  },
  {
   "cell_type": "code",
   "execution_count": 31,
   "id": "b0fcf4b8-6372-4288-b64e-7a89b40719a9",
   "metadata": {},
   "outputs": [
    {
     "data": {
      "text/plain": [
       "0"
      ]
     },
     "execution_count": 31,
     "metadata": {},
     "output_type": "execute_result"
    }
   ],
   "source": [
    "sbi = AtmP()\n",
    "sbi.balance\n",
    "\n",
    "# As you can see balance is not a method but data in my class. \n",
    "# I want my user to only access the methods in my class, not data so we need to find a way\n",
    "# to hide my data from the user so it doesn't make problems with the class. "
   ]
  },
  {
   "cell_type": "markdown",
   "id": "60955c0c-7a44-476b-805c-26876e7658fd",
   "metadata": {},
   "source": [
    "## Private Atttributes & Methods"
   ]
  },
  {
   "cell_type": "code",
   "execution_count": 32,
   "id": "f5b004f1-124e-44ea-b015-72ff943cd28a",
   "metadata": {},
   "outputs": [],
   "source": [
    "class AtmP:\n",
    "    def __init__(self):\n",
    "        self.__pin = \"\"\n",
    "        self.__balance = 0\n",
    "        self.__menu() # Make sure to double underscore throughout the program the method/attribute is used\n",
    "    def __menu(self): # Double underscore\n",
    "        pass\n",
    "    def deposit(self):\n",
    "        pass\n",
    "    def withdraw(self):\n",
    "        pass"
   ]
  },
  {
   "cell_type": "markdown",
   "id": "e804b5cd-5286-4f7f-a6e8-70d158183bb3",
   "metadata": {},
   "source": [
    "Using double underscore, you can make your attributes private, and now the user won't be able to access that data. Perhaps, you don't want the user to see a method either, you can hide them by putting a double underscore. "
   ]
  },
  {
   "cell_type": "code",
   "execution_count": 34,
   "id": "85e2ceb1-398c-4465-8952-d77482eecf0c",
   "metadata": {},
   "outputs": [],
   "source": [
    "chase = AtmP()\n",
    "# chase.balance --> AttributeError: 'AtmP' object has no attribute 'balance'"
   ]
  },
  {
   "cell_type": "markdown",
   "id": "19950bef-6c1b-4464-96d2-d115b9b16e1d",
   "metadata": {},
   "source": [
    "## Nothing in Python Is Truly Private"
   ]
  },
  {
   "cell_type": "code",
   "execution_count": 39,
   "id": "309b3818-a6a1-4ff6-a7f9-9e5a9e6d5f06",
   "metadata": {},
   "outputs": [],
   "source": [
    "class AtmP:\n",
    "    def __init__(self):\n",
    "        self.__pin = \"\"\n",
    "        self.__balance = 0\n",
    "        self.__menu() # Make sure to double underscore throughout the program the method/attribute is used\n",
    "    def __menu(self): # Double underscore\n",
    "        pass\n",
    "    def deposit(self):\n",
    "        user_input = int(input(\"enter an amount to deposit: \"))\n",
    "        self.amount = self.__balance + user_input\n",
    "    def withdraw(self):\n",
    "        user_input = int(input(\"enter an amount withdraw: \"))\n",
    "        self.amount = self.__balance - user_input\n",
    "    def check_balance(self):\n",
    "        print(\"your balance is\", self.amount)"
   ]
  },
  {
   "cell_type": "code",
   "execution_count": 40,
   "id": "acd8800b-9da0-4996-87b3-630617dda17e",
   "metadata": {},
   "outputs": [
    {
     "name": "stdin",
     "output_type": "stream",
     "text": [
      "enter an amount to deposit:  2344\n"
     ]
    },
    {
     "name": "stdout",
     "output_type": "stream",
     "text": [
      "your balance is 2344\n"
     ]
    }
   ],
   "source": [
    "sbi = AtmP()\n",
    "sbi.__balancee = \"wifhvwi\"\n",
    "sbi.deposit()\n",
    "sbi.check_balance()\n",
    "\n",
    "# It didn't give an error. Why? \n",
    "# We tried assigning balance to a string so why didn't we get an error?"
   ]
  },
  {
   "cell_type": "markdown",
   "id": "aed28e8e-e658-469f-9472-fd8150863d67",
   "metadata": {},
   "source": [
    "---------------\n",
    "When we create a private attribute internally this is how it looks in python:\n",
    "\n",
    "When writing in our program: __pin ----> really it is being written as the variable: _AtmP__pin\n",
    "\n",
    "When writing in our program: __balance ---> really it is being written as the variable: _AtmP__balance\n",
    "\n",
    "----------------\n",
    "What happened in the case of when we did sbi.__balance is this:\n",
    "\n",
    "sbi.__balance = \"...\" ----> __balance\n",
    "\n",
    "\n",
    "This means that we created a new variable called __balance which is not getting used in the program. __balance is not being used instead _AtmP__balance variable is getting used in the program that's why we don't see an error in the program execution. "
   ]
  },
  {
   "cell_type": "markdown",
   "id": "fe42d8dc-9979-4933-b92f-1fb372876129",
   "metadata": {},
   "source": [
    "#### What happens if we use _AtmP__balance or _AtmP__pin then? What do you think will happen?"
   ]
  },
  {
   "cell_type": "markdown",
   "id": "753b04d2-479d-413a-af38-c0202c481e7a",
   "metadata": {},
   "source": [
    "In this case we will see an error occur since we know what the private variable is called, we are changing its value so it will cause an error in the program. "
   ]
  },
  {
   "cell_type": "code",
   "execution_count": 42,
   "id": "62fcf072-ef89-4aef-a858-42d3e695cc9f",
   "metadata": {},
   "outputs": [],
   "source": [
    "sbi._AtmP__balance = \"wehfiw\"\n",
    "# sbi.deposit() ----> TypeError: can only concatenate str (not \"int\") to str"
   ]
  },
  {
   "cell_type": "markdown",
   "id": "8683cd8d-1468-4d8a-88d0-42f20e8319e5",
   "metadata": {},
   "source": [
    "That means nothing is truly private in python. You can access the private methods or attributes of your class by using this syntax:\n",
    "\n",
    "_ClassName__variable\n",
    "* underscore, class name, double underscore, variable name "
   ]
  },
  {
   "cell_type": "code",
   "execution_count": 47,
   "id": "ad3a01ad-a0fd-44c9-ab42-5123b9ade1a4",
   "metadata": {},
   "outputs": [],
   "source": [
    "class AtmP:\n",
    "    def __init__(self):\n",
    "        self.__pin = \"\"\n",
    "        self.__balance = 0\n",
    "        self.__menu() \n",
    "\n",
    "    def get_pin(self):\n",
    "        return self.__pin\n",
    "        \n",
    "    def set_pin(self, new_pin):\n",
    "        if type(new_pin) == str:\n",
    "            self.__pin = new_pin\n",
    "            print(\"pin changed\")\n",
    "        else:\n",
    "            print(\"Not Allowed\")\n",
    "\n",
    "    def __menu(self): \n",
    "        pass\n",
    "        \n",
    "    def deposit(self):\n",
    "        user_input = int(input(\"enter an amount to deposit: \"))\n",
    "        self.amount = self.__balance + user_input\n",
    "        \n",
    "    def withdraw(self):\n",
    "        user_input = int(input(\"enter an amount withdraw: \"))\n",
    "        self.amount = self.__balance - user_input\n",
    "        \n",
    "    def check_balance(self):\n",
    "        print(\"your balance is\", self.amount)"
   ]
  },
  {
   "cell_type": "code",
   "execution_count": 51,
   "id": "6ca063df-6050-46b9-be69-e331d1cdd99d",
   "metadata": {},
   "outputs": [
    {
     "name": "stdout",
     "output_type": "stream",
     "text": [
      "pin changed\n",
      "Not Allowed\n",
      "Not Allowed\n"
     ]
    }
   ],
   "source": [
    "sbi = AtmP()\n",
    "sbi.set_pin('7878')\n",
    "sbi.get_pin()\n",
    "\n",
    "sbi.set_pin(232.3)\n",
    "sbi.set_pin(2132)"
   ]
  },
  {
   "cell_type": "markdown",
   "id": "9bb924af-212a-4fd1-9561-9c855bdf2fcf",
   "metadata": {},
   "source": [
    "## Reference Variable\n",
    "\n",
    "- When you assign a value to a variable, you're actually assigning a reference to the object\n",
    "- So, in the code sbi = AtmP(), sbi is a reference variable that holds a reference to the object created by AtmP(). The object itself is an instance of the class AtmP"
   ]
  },
  {
   "cell_type": "code",
   "execution_count": null,
   "id": "1c497392-5b3a-40c5-8883-5c353bc40e4f",
   "metadata": {},
   "outputs": [],
   "source": [
    "sbi = AtmP() \n",
    "# reference variable = object\n",
    "#  \"sbi\" is a reference variable that refers to an object of type AtmP"
   ]
  },
  {
   "cell_type": "markdown",
   "id": "05735de1-d5e9-4422-b934-54942dcf2ebd",
   "metadata": {},
   "source": [
    "## Pass by Reference\n",
    "- if you pass mutable data types to a function, the orginal variable will get changed\n",
    "- if you pass immutable data types to a function, the orginal variable will not face changes "
   ]
  },
  {
   "cell_type": "markdown",
   "id": "60f2a2ed-939b-4778-a5df-73e8f07e7d21",
   "metadata": {},
   "source": [
    "#### Proof:"
   ]
  },
  {
   "cell_type": "code",
   "execution_count": 2,
   "id": "5923ae15-c3f4-4efd-afef-7fbfafda9100",
   "metadata": {},
   "outputs": [
    {
     "name": "stdout",
     "output_type": "stream",
     "text": [
      "Id of cust is: 4355441776\n",
      "Id of customer is: 4355441776\n"
     ]
    }
   ],
   "source": [
    "class Customer:\n",
    "    def __init__(self,name):\n",
    "        self.name = name\n",
    "\n",
    "def greet(customer):\n",
    "    print(\"Id of customer is:\", id(customer))\n",
    "\n",
    "cust = Customer(\"Anjali\")\n",
    "print(\"Id of cust is:\", id(cust))\n",
    "greet(cust)"
   ]
  },
  {
   "cell_type": "code",
   "execution_count": 6,
   "id": "db44d33d-0b5d-4de8-a90e-22835e02fb56",
   "metadata": {},
   "outputs": [
    {
     "name": "stdout",
     "output_type": "stream",
     "text": [
      "Id of cust is: 4360969664\n",
      "Id of customer is: 4360969664\n",
      "Assigning new name in the function: Shah Ruk Khan\n",
      "Id of customer after changing the name: 4360969664\n",
      "Name of customer after changing it in the function: Shah Ruk Khan\n"
     ]
    }
   ],
   "source": [
    "class Customer:\n",
    "    def __init__(self,name):\n",
    "        self.name = name\n",
    "\n",
    "def greet(customer):\n",
    "    print(\"Id of customer is:\", id(customer))\n",
    "    customer.name = \"Shah Ruk Khan\"\n",
    "    print(\"Assigning new name in the function:\",customer.name)\n",
    "    print(\"Id of customer after changing the name:\", id(customer))\n",
    "\n",
    "cust = Customer(\"Anjali\")\n",
    "print(\"Id of cust is:\", id(cust))\n",
    "greet(cust)\n",
    "print('Name of customer after changing it in the function:', cust.name)"
   ]
  },
  {
   "cell_type": "markdown",
   "id": "10c5add9-37f4-4330-b626-696562907602",
   "metadata": {},
   "source": [
    "From this we can conclude that a class's objects are also mutable since despite the change being made within the greet function, it reflects outside the function as well. This demonstrates that the object cust is mutable, as its attribute (name) can be changed even after the object is created."
   ]
  },
  {
   "cell_type": "code",
   "execution_count": 8,
   "id": "5129c9b3-9d90-4c93-85d6-c9f26f8d16a1",
   "metadata": {},
   "outputs": [
    {
     "name": "stdout",
     "output_type": "stream",
     "text": [
      "Id of L1 list is: 4367782912\n",
      "L1 contents: [1, 2, 3, 4]\n",
      "Id of L in the function: 4367782912\n",
      "Appending 5 to L inside function, its id is: 4367782912\n",
      "L1 contents: [1, 2, 3, 4, 5]\n"
     ]
    }
   ],
   "source": [
    "def change(L):\n",
    "    print(\"Id of L in the function:\", id(L))\n",
    "    L.append(5)\n",
    "    print(\"Appending 5 to L inside function, its id is:\", id(L))\n",
    "\n",
    "\n",
    "L1 = [1,2,3,4]\n",
    "print(\"Id of L1 list is:\", id(L1))\n",
    "print(\"L1 contents:\", L1)\n",
    "\n",
    "change(L1)\n",
    "print(\"L1 contents:\",L1)\n",
    "    "
   ]
  },
  {
   "cell_type": "markdown",
   "id": "8c441d8a-e5fb-466e-b69f-6a83d5be4c55",
   "metadata": {},
   "source": [
    "This means that the data in your list can be changed inside a function which can be dangerous and risky if your function is not working the way you want it to. Instead use a tuple to solve this problem. "
   ]
  }
 ],
 "metadata": {
  "kernelspec": {
   "display_name": "Python 3 (ipykernel)",
   "language": "python",
   "name": "python3"
  },
  "language_info": {
   "codemirror_mode": {
    "name": "ipython",
    "version": 3
   },
   "file_extension": ".py",
   "mimetype": "text/x-python",
   "name": "python",
   "nbconvert_exporter": "python",
   "pygments_lexer": "ipython3",
   "version": "3.12.1"
  }
 },
 "nbformat": 4,
 "nbformat_minor": 5
}
