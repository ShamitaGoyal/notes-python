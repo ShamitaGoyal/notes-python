{
 "cells": [
  {
   "cell_type": "markdown",
   "id": "93b809a1-3750-43cf-a411-221056909733",
   "metadata": {},
   "source": [
    "# <div style=\"text-align:center;\">Iterables, Iterators, Generators</div>\n",
    "<div style=\"text-align:center;\">4/14/24</div>"
   ]
  },
  {
   "cell_type": "markdown",
   "id": "dda3da52-177b-44aa-9089-69dd3905700b",
   "metadata": {},
   "source": [
    "<u>General definitions:</u>\n",
    "- **Iteration** ==> a general term for taking each item of something, one after another. Anytime you use a loop, explicity or implicit, to go over a group of items, that is an iteration\n",
    "- **Iterator** ==> an object that allows the programer to traverse through a sequence of data **without having to store the entire data in the memory**\n",
    "- **Iterable** ==> is an object, which one can iterate over"
   ]
  },
  {
   "cell_type": "markdown",
   "id": "1fb392d8-5690-4116-a1ed-87c69fc7f0b7",
   "metadata": {},
   "source": [
    "<div style=\"text-align:center;\">\n",
    "    <img src=\"https://miro.medium.com/v2/resize:fit:786/format:webp/1*9l5bpqRGEa4LNLg3WTISPg.png\" style=\"float:left; width:300px; margin right:10px;\"/>\n",
    "</div>\n"
   ]
  },
  {
   "cell_type": "markdown",
   "id": "67706900-f2c7-4e73-9318-d29214cabb71",
   "metadata": {},
   "source": [
    "## **Point to remember:**\n",
    "- every **iterator** is also an **iterable**\n",
    "- not all **iterables** are **iterators** "
   ]
  },
  {
   "cell_type": "markdown",
   "id": "04ec22a0-8318-4606-b4be-8cb446ac9e9c",
   "metadata": {},
   "source": [
    "## Trick \n",
    "- every **iterable** has an **iter function**\n",
    "- every **iterator** has both **iter function** as well as a **next function**"
   ]
  },
  {
   "cell_type": "code",
   "execution_count": 51,
   "id": "0fa4efd5-1354-40eb-8dd9-0d9df488459d",
   "metadata": {},
   "outputs": [
    {
     "name": "stdout",
     "output_type": "stream",
     "text": [
      "['__add__', '__class__', '__class_getitem__', '__contains__', '__delattr__', '__delitem__', '__dir__', '__doc__', '__eq__', '__format__', '__ge__', '__getattribute__', '__getitem__', '__getstate__', '__gt__', '__hash__', '__iadd__', '__imul__', '__init__', '__init_subclass__', '__iter__', '__le__', '__len__', '__lt__', '__mul__', '__ne__', '__new__', '__reduce__', '__reduce_ex__', '__repr__', '__reversed__', '__rmul__', '__setattr__', '__setitem__', '__sizeof__', '__str__', '__subclasshook__', 'append', 'clear', 'copy', 'count', 'extend', 'index', 'insert', 'pop', 'remove', 'reverse', 'sort']\n"
     ]
    }
   ],
   "source": [
    "#Iterable:\n",
    "# use for loop or dir() to see if an object is iterable\n",
    "# or not \n",
    "# if dir() shows the iter function, then it is an iterable\n",
    "\n",
    "a = 2 \n",
    "L = [1,3,5]\n",
    "T = (1,3,4)\n",
    "D = {2:3,5:3}\n",
    "\n",
    "# print(dir(a))\n",
    "print(dir(L))"
   ]
  },
  {
   "cell_type": "code",
   "execution_count": 49,
   "id": "80be3311-853c-4bad-b6fc-94759571ea19",
   "metadata": {},
   "outputs": [
    {
     "data": {
      "text/plain": [
       "['__class__',\n",
       " '__delattr__',\n",
       " '__dir__',\n",
       " '__doc__',\n",
       " '__eq__',\n",
       " '__format__',\n",
       " '__ge__',\n",
       " '__getattribute__',\n",
       " '__getstate__',\n",
       " '__gt__',\n",
       " '__hash__',\n",
       " '__init__',\n",
       " '__init_subclass__',\n",
       " '__iter__',\n",
       " '__le__',\n",
       " '__length_hint__',\n",
       " '__lt__',\n",
       " '__ne__',\n",
       " '__new__',\n",
       " '__next__',\n",
       " '__reduce__',\n",
       " '__reduce_ex__',\n",
       " '__repr__',\n",
       " '__setattr__',\n",
       " '__setstate__',\n",
       " '__sizeof__',\n",
       " '__str__',\n",
       " '__subclasshook__']"
      ]
     },
     "execution_count": 49,
     "metadata": {},
     "output_type": "execute_result"
    }
   ],
   "source": [
    "# Iterator:\n",
    "# use dir() both iter and next function should be there\n",
    "\n",
    "# L is not an iterator \n",
    "dir(L) # it only has iter not next function\n",
    "\n",
    "#iter_L is an iterator \n",
    "iter_L = iter(L)\n",
    "dir(iter_L)"
   ]
  },
  {
   "cell_type": "markdown",
   "id": "1e675284-c3ac-4772-9fb7-9af6b99ea561",
   "metadata": {},
   "source": [
    "## Iterable \n",
    "- contains **multiple** data values that are stored and accessed in a specific way\n",
    "- a data type that can be iterated over (or stepped through one element at a time)\n",
    "- supports the **in** operator to check for existence of an element and the **len** function to get the number of elements\n",
    "- an iterable contains multiple data values, so it's also called a container\n",
    "\n",
    "Common built-in interables:\n",
    "- list --> mutable\n",
    "- str --> immutable \n",
    "- tuple --> immutable\n",
    "- set --> mutable \n",
    "- dictionary --> mutable "
   ]
  },
  {
   "cell_type": "markdown",
   "id": "2a758caf-1c5d-4a85-b3c0-a24a7c2abcd6",
   "metadata": {},
   "source": [
    "## Comprehension \n",
    "- should be used when an iterable is being created by adding one data element at a time to the iterable "
   ]
  },
  {
   "cell_type": "markdown",
   "id": "7d95f4ac-8139-494b-b69b-003f04042b24",
   "metadata": {},
   "source": [
    "### 1. <u>List comprehension:</u>\n",
    "\n",
    "[expression **for** item **in** iterable if condition]\n",
    "\n",
    "### 2. <u>Set comprehension:</u>\n",
    "\n",
    "{expression **for** item **in** iterable if condition}\n",
    "\n",
    "### 3. <u>Dictionary comprehension:</u>\n",
    "\n",
    "{ key_expression : value_expression **for** key, value interable if condition}\n",
    "\n",
    "{ key_expression : value_expression **for** key interable if condition}"
   ]
  },
  {
   "cell_type": "markdown",
   "id": "15fb0446-22b6-459f-9612-eaa0bac48590",
   "metadata": {},
   "source": [
    "### 2D comprension to create a _list_ from a table:"
   ]
  },
  {
   "cell_type": "code",
   "execution_count": null,
   "id": "b5b4df66-57a5-44dd-ace5-0edf7eb9a7f4",
   "metadata": {},
   "outputs": [],
   "source": [
    "[expression(item) for row in table for item in row]"
   ]
  },
  {
   "cell_type": "markdown",
   "id": "ffbc6331-38b2-467a-8e5a-6d3b399ac02c",
   "metadata": {},
   "source": [
    "### 2D comprension to create a _table_ from another table:"
   ]
  },
  {
   "cell_type": "code",
   "execution_count": null,
   "id": "08cfb302-9bfc-42ac-a0c1-f5b01ab0442d",
   "metadata": {},
   "outputs": [],
   "source": [
    "[[expression(item) for item in row] for row in table]"
   ]
  },
  {
   "cell_type": "code",
   "execution_count": 1,
   "id": "3fbaa5a6-ef09-4b0a-bb43-183d6dfb96f2",
   "metadata": {},
   "outputs": [
    {
     "name": "stdout",
     "output_type": "stream",
     "text": [
      "[[1, 5, 6], [2, 3, 9], [2, 8]]\n"
     ]
    }
   ],
   "source": [
    "table = [[1,-3,5,6],[2,3,-1,9],[2,8,-4,-8]]\n",
    "pos = [[ n for n in row if n>0] for row in table]\n",
    "print(pos)"
   ]
  },
  {
   "cell_type": "markdown",
   "id": "ac11d5a5-4446-4ee7-9670-12b0db87beae",
   "metadata": {},
   "source": [
    "## a) Collections: Default Dictionary \n",
    "- if we're not sure that the key exists, we need to use the get method\n",
    "- a default dict will automatically fill in a default value if they key doesn't exist\n",
    "- part of the collections module that we ned to import"
   ]
  },
  {
   "cell_type": "code",
   "execution_count": null,
   "id": "9f0df18d-6da2-4470-9b06-beeb32725c96",
   "metadata": {},
   "outputs": [],
   "source": [
    "# Notation:\n",
    "val = myDict.get(aKey,defaultValue)"
   ]
  },
  {
   "cell_type": "code",
   "execution_count": null,
   "id": "4e251d6f-8fd9-4cb5-bbc5-ce15874003c2",
   "metadata": {},
   "outputs": [],
   "source": [
    "import collections \n",
    "myDefaultDict = collections.defaultdict(default_data_type)"
   ]
  },
  {
   "cell_type": "markdown",
   "id": "5222b721-ed56-453a-a6d0-b01c1b6513e0",
   "metadata": {},
   "source": [
    "For data type and the default value is:\n",
    "1. int --> 0\n",
    "2. float --> 0.0\n",
    "3. sequence --> empty sequence "
   ]
  },
  {
   "cell_type": "code",
   "execution_count": 3,
   "id": "e79b03b4-f2b6-4880-a9a5-125e3585cf2e",
   "metadata": {},
   "outputs": [
    {
     "data": {
      "text/plain": [
       "{'w': 1,\n",
       " 'h': 1,\n",
       " 'a': 1,\n",
       " 't': 1,\n",
       " ' ': 4,\n",
       " 'i': 2,\n",
       " 's': 1,\n",
       " 'g': 2,\n",
       " 'o': 3,\n",
       " 'n': 2,\n",
       " 'e': 2,\n",
       " 'v': 1,\n",
       " 'r': 1,\n",
       " 'y': 4,\n",
       " 'b': 1,\n",
       " 'd': 1}"
      ]
     },
     "execution_count": 3,
     "metadata": {},
     "output_type": "execute_result"
    }
   ],
   "source": [
    "# TO COUNT CHARACTERS IN A GIVEN STRING:\n",
    "import collections\n",
    "myStr = \"what is going on everybodyyy\"\n",
    "letterCount = collections.defaultdict(int)\n",
    "for char in myStr:\n",
    "    letterCount[char] += 1 \n",
    "\n",
    "dict(letterCount)"
   ]
  },
  {
   "cell_type": "markdown",
   "id": "bf642712-1201-4a23-9d19-a4fb495548fd",
   "metadata": {},
   "source": [
    "## b) Collections: Counter Method\n",
    "- provides an easier way to count"
   ]
  },
  {
   "cell_type": "code",
   "execution_count": 9,
   "id": "3356972e-c2f0-4ecd-91b2-a3065115fb72",
   "metadata": {},
   "outputs": [],
   "source": [
    "# USE COUNTER FOR A FASTER WAY\n",
    "\n",
    "c = collections.Counter(iterable_object)\n",
    "\n",
    "# to add another iterable to an exisitng counter\n",
    "# use update(), just like with a dict:\n",
    "c.update(another_iterable_object)\n",
    "\n",
    "# to print the count of occurences:\n",
    "for key,count in c.items():\n",
    "    print(key, count)\n",
    "\n",
    "# to print the count in sorted order, highest to lowest\n",
    "# we can use the sorted function or:\n",
    "for key,count in c.most_common():\n",
    "    print(key,count)"
   ]
  },
  {
   "cell_type": "code",
   "execution_count": 11,
   "id": "90a54d60-4f3f-4c55-858f-8aa5f9011049",
   "metadata": {},
   "outputs": [
    {
     "name": "stdout",
     "output_type": "stream",
     "text": [
      "[('r', 3), ('m', 2), ('p', 1), ('o', 1), ('g', 1), ('a', 1), ('e', 1)]\n"
     ]
    }
   ],
   "source": [
    "c = collections.Counter(\"programmer\")\n",
    "print(c.most_common())"
   ]
  },
  {
   "cell_type": "markdown",
   "id": "b41621e1-3ef3-4c89-a83f-68d2ff43ea38",
   "metadata": {},
   "source": [
    "## Unpacking operator\n",
    "\n",
    "When we use the * operator:\n",
    "1. in front of a sequence data type (such as a list or tuple)\n",
    "2. and the sequence is used in RHS context (ex. it provides the data)\n",
    "3. and the LHS requires multiple indivdual data values\n",
    "\n",
    "Then Python will interpret the * as the <u>unpacking</u> operator. "
   ]
  },
  {
   "cell_type": "code",
   "execution_count": 14,
   "id": "df0467df-f04c-4068-8360-7c86b9cabaf0",
   "metadata": {},
   "outputs": [
    {
     "name": "stdout",
     "output_type": "stream",
     "text": [
      "[8, 9, 0]\n",
      "8 9 0\n",
      "8 9 0\n"
     ]
    }
   ],
   "source": [
    "L = [8,9,0]\n",
    "\n",
    "# the * will be interpreted as the unpacking operator\n",
    "# it unpacks the a sequence of data into individual data values\n",
    "print(L)\n",
    "print(*L)\n",
    "print(8,9,0)"
   ]
  },
  {
   "cell_type": "markdown",
   "id": "e37ab0f4-0390-447a-a9cb-90403ec16ab1",
   "metadata": {},
   "source": [
    "## Packing operator\n",
    "When we use the * operator:\n",
    "1. in front of a sequence data type (such as a list or tuple)\n",
    "2. and the sequence is being used in LHS context (ex. it receives data)\n",
    "3. and the RHS is made of multiple individual data values\n",
    "\n",
    "Then Python will interpret the * as the <u>packing</u> operator\n",
    "\n",
    "- the packign operator groups together or packs individual data values into a sequence"
   ]
  },
  {
   "cell_type": "code",
   "execution_count": 16,
   "id": "b2489bd6-b564-457b-92ec-a2f61a30b7cf",
   "metadata": {},
   "outputs": [],
   "source": [
    "L = [8,3,0,2,7]\n",
    "\n",
    "#var1 --> 8\n",
    "#var2 --> 3\n",
    "#theRest is [0,2,7]\n",
    "(var1, var2, *theRest) = L\n",
    "\n",
    "#Error! \n",
    "# without the packign operator there are\n",
    "# to few LHS variables\n",
    "(var1, var2, theRest) = L"
   ]
  },
  {
   "cell_type": "markdown",
   "id": "ed73d4af-b766-4a05-8376-d7646a221150",
   "metadata": {},
   "source": [
    "<div style=\"text-align:center;\">\n",
    "    <img src=\"https://prepinstadotcom.s3.ap-south-1.amazonaws.com/wp-content/uploads/2021/02/Packing-unpacking.png\" style=\"width:400px; height:400px; margin: 0 auto;\"/>\n",
    "</div>\n"
   ]
  },
  {
   "cell_type": "markdown",
   "id": "7ef12e33-bf95-43fb-9b3b-e164de07f022",
   "metadata": {},
   "source": [
    "## Iterable Functions\n",
    "- all()\n",
    "- any()\n",
    "- enumerate()\n",
    "- len()\n",
    "- max(), min()\n",
    "- reversed()\n",
    "- sorted()\n",
    "- sum()\n",
    "- zip()"
   ]
  },
  {
   "cell_type": "markdown",
   "id": "c55be8a1-3451-494f-8ff1-7886cc35d263",
   "metadata": {},
   "source": [
    "### 1. all() \n",
    "- return true if every element evaluates to true or if the iterable is empty\n",
    "- return false otherwise"
   ]
  },
  {
   "cell_type": "code",
   "execution_count": null,
   "id": "6b618926-cee2-4e90-bb44-27a30c41c286",
   "metadata": {},
   "outputs": [],
   "source": [
    "# Notation:\n",
    "all(elem % 2 for elem in iterable)"
   ]
  },
  {
   "cell_type": "markdown",
   "id": "21ebc5bc-82f0-4e0e-b517-522aa2ed05b1",
   "metadata": {},
   "source": [
    "### 2. any()\n",
    "- return true if one element evaluates to true\n",
    "- return false otherwise or if the iterable is empty"
   ]
  },
  {
   "cell_type": "code",
   "execution_count": null,
   "id": "8de4efcc-6316-4e7d-94db-832792b92290",
   "metadata": {},
   "outputs": [],
   "source": [
    "# Notation:\n",
    "any(elem > 0 for elem in iterable)"
   ]
  },
  {
   "cell_type": "code",
   "execution_count": 18,
   "id": "a18f70f6-3207-4686-8e04-50f42b5e03b1",
   "metadata": {},
   "outputs": [
    {
     "name": "stdout",
     "output_type": "stream",
     "text": [
      "Negative value detected in L\n",
      "All non-zero in T\n"
     ]
    }
   ],
   "source": [
    "L = [8, 4, 3, -2, 0, 2, 11, -7, 6]\n",
    "T = tuple()\n",
    "if any(elem < 0 for elem in L) : # True\n",
    "    print(\"Negative value detected in L\")\n",
    "if any(elem > 100 for elem in L) : # False\n",
    "    print(\"At least 1 value larger than 100\")\n",
    "if all(elem > 0 for elem in L) : # False\n",
    "    print(\"All positive values\")\n",
    "if all(elem != 0 for elem in T) : # True\n",
    "    print(\"All non-zero in T\")"
   ]
  },
  {
   "cell_type": "markdown",
   "id": "c49ee2a8-dcb6-4f8f-9cd5-cc50c45cd50f",
   "metadata": {},
   "source": [
    "### 3. enumerate()\n",
    "- used with **for in** to get a **count** and **the element** of an iterable "
   ]
  },
  {
   "cell_type": "code",
   "execution_count": null,
   "id": "4d2c8d5c-0c58-40fc-986d-671cac67ba5e",
   "metadata": {},
   "outputs": [],
   "source": [
    "# Notation:\n",
    "for count, elem in enumerate(iterable, start=n):\n",
    "    # code\n",
    "    # count starts at n and counts up "
   ]
  },
  {
   "cell_type": "code",
   "execution_count": 20,
   "id": "1d28aa23-6dc5-4167-b817-a4ff39899b35",
   "metadata": {},
   "outputs": [
    {
     "name": "stdout",
     "output_type": "stream",
     "text": [
      "65 A\n",
      "66 B\n",
      "67 C\n",
      "\n",
      "0 A\n",
      "1 B\n",
      "2 C\n"
     ]
    }
   ],
   "source": [
    "T = (\"A\", \"B\", \"C\")\n",
    "for num, letter in enumerate(T, 65) :\n",
    "    print(num, letter)\n",
    "print()\n",
    "for num, letter in enumerate(T) :\n",
    "    print(num, letter)"
   ]
  },
  {
   "cell_type": "markdown",
   "id": "fdcd8a8d-0e75-4059-adfe-741303d8f751",
   "metadata": {},
   "source": [
    "#### len()\n",
    "- return the number of elements of the iterable"
   ]
  },
  {
   "cell_type": "code",
   "execution_count": null,
   "id": "ddac46b7-cdd0-4ae6-8cda-635509a549a0",
   "metadata": {},
   "outputs": [],
   "source": [
    "# Notation:\n",
    "len(iterable)"
   ]
  },
  {
   "cell_type": "markdown",
   "id": "175969d0-25d3-4414-87fc-f1c4a3541234",
   "metadata": {},
   "source": [
    "### 4. max() & min()\n",
    "- return the max or the min value of the iterable"
   ]
  },
  {
   "cell_type": "code",
   "execution_count": null,
   "id": "8dc996b0-0111-435f-b32c-942b2df40c15",
   "metadata": {},
   "outputs": [],
   "source": [
    "# Notation:\n",
    "max(iterable)\n",
    "min(iterable)"
   ]
  },
  {
   "cell_type": "markdown",
   "id": "975a66d8-9ffc-4a0e-ad56-6dd5fff65cb6",
   "metadata": {},
   "source": [
    "### 5. reversed()\n",
    "- return an iterator in reversed order"
   ]
  },
  {
   "cell_type": "code",
   "execution_count": null,
   "id": "464b9c33-d1bc-40b9-a73d-8f4878555772",
   "metadata": {},
   "outputs": [],
   "source": [
    "# Notation:\n",
    "for elem in reversed(iterable):\n",
    "    # iterate from the end to the front of iterable \n",
    "    # to fetch elem"
   ]
  },
  {
   "cell_type": "markdown",
   "id": "396e00e6-e2ba-4542-89a4-7bcfa26497bd",
   "metadata": {},
   "source": [
    "### 6. sorted() \n",
    "- return an interable in sorted order "
   ]
  },
  {
   "cell_type": "code",
   "execution_count": null,
   "id": "ed875dc0-3c36-4d41-9375-6cfb0336b919",
   "metadata": {},
   "outputs": [],
   "source": [
    "# Notation:\n",
    "sorted(iterable) # ascending \n",
    "sorted(iterable, reverse=True) # descend"
   ]
  },
  {
   "cell_type": "markdown",
   "id": "4fe702e5-1d64-48f6-a8a6-f3fa2829a55b",
   "metadata": {},
   "source": [
    "### 7. sum()\n",
    "- for an iterable of numbers: return the total of all element values"
   ]
  },
  {
   "cell_type": "code",
   "execution_count": null,
   "id": "139e9907-205e-4519-a858-965e5db3e2a6",
   "metadata": {},
   "outputs": [],
   "source": [
    "# Notation:\n",
    "sum(iterable,n)\n",
    "# return: sum of all elemens + n \n",
    "# n defaults to 0 "
   ]
  },
  {
   "cell_type": "markdown",
   "id": "bc48cab4-05fb-4d28-b51a-4d76e33c7757",
   "metadata": {},
   "source": [
    "### 8. zip()\n",
    "- returns an iterator of tuples"
   ]
  },
  {
   "cell_type": "code",
   "execution_count": null,
   "id": "aad1d31f-7a43-4994-a84b-96149ba067ae",
   "metadata": {},
   "outputs": [],
   "source": [
    "# Notation:\n",
    "for t in zip(seq1, seq2, seq3):\n",
    "    # t is a tuple of corresponding elements \n",
    "    # from seq1, seq2, seq3\n",
    "    # number of iteration = shortest list length "
   ]
  },
  {
   "cell_type": "code",
   "execution_count": 23,
   "id": "8f924de8-60ca-4527-b5b4-cbfedde182fd",
   "metadata": {},
   "outputs": [
    {
     "name": "stdout",
     "output_type": "stream",
     "text": [
      "(1, 100)\n",
      "(3, 200)\n",
      "(5, 300)\n",
      "(7, 400)\n",
      "(9, 500)\n",
      "{100: 1, 200: 3, 300: 5, 400: 7, 500: 9}\n",
      "(1, 2, 100)\n",
      "(3, 4, 200)\n",
      "(5, 6, 300)\n",
      "(7, 8, 400)\n"
     ]
    }
   ],
   "source": [
    "L1 = (1, 3, 5, 7, 9)\n",
    "L2 = (2, 4, 6, 8)\n",
    "L3 = (100, 200, 300, 400, 500)\n",
    "for elem in zip(L1, L3) :\n",
    "    print(elem)\n",
    "D = dict(zip(L3, L1))\n",
    "print(D)\n",
    "#D = dict(zip(L1, L2, L3)) # RUN THIS TO SEE WHAT HAPPENS\n",
    "for elem in zip(L1, L2, L3) :\n",
    "    print(elem)"
   ]
  },
  {
   "cell_type": "markdown",
   "id": "ed49f0d4-cbb4-4cb0-896b-b34ad3f098a1",
   "metadata": {},
   "source": [
    "## Copying Iterables"
   ]
  },
  {
   "cell_type": "code",
   "execution_count": null,
   "id": "b1fa3f4f-dc8f-40ee-b4d4-1c88b10469d4",
   "metadata": {},
   "outputs": [],
   "source": [
    "L1 = [8,2,5]\n",
    "L2 = L1 # L2 is an another name for the list at L1\n",
    "# this is not creating a copy of the list L1 "
   ]
  },
  {
   "cell_type": "markdown",
   "id": "2a16bcfd-60ab-4831-a97f-5b2f35222fb7",
   "metadata": {},
   "source": [
    "#### <u>Common ways to copy a 1D list:</u>"
   ]
  },
  {
   "cell_type": "code",
   "execution_count": null,
   "id": "e991e0db-5382-4b9b-bfc5-3ee35d8245fd",
   "metadata": {},
   "outputs": [],
   "source": [
    "L2 = list(L1)\n",
    "L2 = L1.copy()"
   ]
  },
  {
   "cell_type": "markdown",
   "id": "97d32ff7-fced-4c6b-b8ea-cb487bffac1b",
   "metadata": {},
   "source": [
    "#### <u>Common Ways to copy a 2D or high dimensional iterable:</u>\n",
    "- deepy copy ==> make a new object of each internal iterable\n",
    "- ex: if L3 is a list of 3 internal lists, a deep copy will copy 4 lists:\n",
    "  - the 3 internal lists that are referenced by L3"
   ]
  },
  {
   "cell_type": "code",
   "execution_count": 24,
   "id": "fd27d73a-30e4-49a7-9b3d-66eca69053ba",
   "metadata": {},
   "outputs": [
    {
     "name": "stdout",
     "output_type": "stream",
     "text": [
      "[[2, 3, 4], [4, 5, 9], [2, 4, 8]]\n",
      "[[2, 3, 4], [4, 5, 9], [2, 4, 8]]\n"
     ]
    }
   ],
   "source": [
    "import copy \n",
    "L3 = [[2,3,4],[4,5,9],[2,4,8]]\n",
    "L4 = copy.deepcopy(L3)\n",
    "print(L3)\n",
    "print(L4)"
   ]
  },
  {
   "cell_type": "markdown",
   "id": "87db419d-fbe0-4774-bb98-b14f3f8964c6",
   "metadata": {},
   "source": [
    "## Iterator\n",
    "- contains **one** data value that is part of a sequence of data\n",
    "- has a method to generate and return the next data value in the sequence\n",
    "- an interator can work with an iterable, as a \"front-end\" to the iterable\n",
    "  - in this case the iterator uses the sequence of data from the iterable and returns one data value at a time\n",
    "- an iterator can also be a stand alone object\n",
    "  - in this case it has code to generate one data at a time from an algorithm\n",
    " \n",
    "\n",
    "iterable listA --> iterator --> one data value\n",
    "\n",
    "iterator with code to generate data --> one data value"
   ]
  },
  {
   "cell_type": "markdown",
   "id": "f02dfb14-782d-42f7-9854-2e9c97f204d4",
   "metadata": {},
   "source": [
    "## Iterator that works with an iterable \n",
    "- an iterator is actually the mechanism used **\"under the hood\"** in a **for loop**\n",
    "- are also used \"under the hood\" to implement functions that work with **iterables**: range(), enumerate(), and zip()\n",
    "  - these are all functions that allow us to fetch one data at a time from the iterable\n"
   ]
  },
  {
   "cell_type": "markdown",
   "id": "743dee52-f6c9-4872-9918-fad2e60bbed1",
   "metadata": {},
   "source": [
    "This code is runninng like this in Python:"
   ]
  },
  {
   "cell_type": "code",
   "execution_count": null,
   "id": "2c71eb5c-773f-417f-ae11-dae42231b19c",
   "metadata": {},
   "outputs": [],
   "source": [
    "for elem in tupleA:\n",
    "    print(elem) "
   ]
  },
  {
   "cell_type": "code",
   "execution_count": null,
   "id": "7a0c6887-4cb5-4cc1-822f-571305035788",
   "metadata": {},
   "outputs": [],
   "source": [
    "i = iter(tupleA) # create iterator which is the \"front end\" for tupleA\n",
    "while True:\n",
    "    try:\n",
    "        print(next(i)) # use nect to get one data values from the iterable\n",
    "    except StopIteration: # end lop when StopIteration exception occurs\n",
    "        break"
   ]
  },
  {
   "cell_type": "markdown",
   "id": "7312976f-a524-4cee-961d-8ff7c9fe71f5",
   "metadata": {},
   "source": [
    "To use an iterator i that works with an iterable, as shown above:\n",
    "- Create an object of the iter class and pass in the iterable. The iterator now becomes the “front end” to the iterable.\n",
    "- Write a while loop that stops (breaks) when a StopIteration exception is detected. StopIteration occurs when there is no more data in the iterable.\n",
    "- In each iteration of the while loop, call next() to get the next data in the sequence."
   ]
  },
  {
   "cell_type": "markdown",
   "id": "0a8eb70c-ccc2-41ec-8604-01da80109af7",
   "metadata": {},
   "source": [
    "If we want to print the entire data sequence from these functions, such as zip() we cannot simply print from zip(). This code below gives us the adress of the iterator object not the sequence of tuples:"
   ]
  },
  {
   "cell_type": "code",
   "execution_count": 25,
   "id": "5c77ee43-eda4-4d3c-81e2-6e15c55ad395",
   "metadata": {},
   "outputs": [
    {
     "name": "stdout",
     "output_type": "stream",
     "text": [
      "<zip object at 0x107849100>\n"
     ]
    }
   ],
   "source": [
    "L1 = [1,3,5]\n",
    "L2 = [2,4,6]\n",
    "\n",
    "print(zip(L1,L2)) "
   ]
  },
  {
   "cell_type": "markdown",
   "id": "0a244046-5d14-4acc-b220-2196c03604f4",
   "metadata": {},
   "source": [
    "We can use a for loop so that the next() function will be called:"
   ]
  },
  {
   "cell_type": "code",
   "execution_count": 28,
   "id": "1e385c47-9b66-49c0-ab22-469326a2fa0c",
   "metadata": {},
   "outputs": [
    {
     "name": "stdout",
     "output_type": "stream",
     "text": [
      "(1, 2)(3, 4)(5, 6)"
     ]
    }
   ],
   "source": [
    "for elem in zip(L1, L2):\n",
    "    print(elem, end=\"\")"
   ]
  },
  {
   "cell_type": "markdown",
   "id": "fb9dd4b2-152b-4654-ac55-5e0b8a756ce1",
   "metadata": {},
   "source": [
    "Or taking advantage of the fact that an iterator will produce the sequence of data, we can use the unpacking operator:"
   ]
  },
  {
   "cell_type": "code",
   "execution_count": 30,
   "id": "b41ca468-f4d7-42a9-b41e-6bbd0e37403a",
   "metadata": {},
   "outputs": [
    {
     "name": "stdout",
     "output_type": "stream",
     "text": [
      "(1, 2) (3, 4) (5, 6)\n"
     ]
    }
   ],
   "source": [
    "print(*zip(L1,L2))"
   ]
  },
  {
   "cell_type": "markdown",
   "id": "fb98a591-1a15-42b1-b63f-611471e6be62",
   "metadata": {},
   "source": [
    "## Stand Alone iterator \n",
    "- Iterators generate data one piece at a time, saving memory by not storing the entire sequence\n",
    "- This is super useful, especially for large or infinite data sets\n",
    "- ex. instead of making a list of a million prime numbers, an iterator would give you one prime number at a time when you need it, saving memory"
   ]
  },
  {
   "cell_type": "markdown",
   "id": "295adc55-756d-4213-a82f-99c47ce27001",
   "metadata": {},
   "source": [
    "## Writing an Iterator \n",
    "- ex. We need to generate powers of 2, like 1, 2, 4, 8, 16, etc., based on the user's choice. Since this sequence is endless and we only need a specific number of values, we can use an iterator. The iterator will give us one value at a time, based on what the user wants, without storing all the values at once. We'll create a Powers2 class as the iterator, then use it to get the next power of 2 value whenever needed."
   ]
  },
  {
   "cell_type": "code",
   "execution_count": 32,
   "id": "51be91a9-aab6-41c3-b6d9-895bf1ef7059",
   "metadata": {},
   "outputs": [],
   "source": [
    "class Powers2:\n",
    "    def __init__(self):\n",
    "        self._exp = 0\n",
    "    def __iter__(self):\n",
    "        return self\n",
    "    def __next__(self):\n",
    "        value, self._exp = self._exp, self._exp + 1\n",
    "        return 2 ** value \n"
   ]
  },
  {
   "cell_type": "code",
   "execution_count": 35,
   "id": "498e18a1-43bb-4c5b-9c5f-c5ac5529a4c0",
   "metadata": {},
   "outputs": [
    {
     "name": "stdout",
     "output_type": "stream",
     "text": [
      "1\n",
      "2\n",
      "4\n",
      "8\n"
     ]
    }
   ],
   "source": [
    "p2 = Powers2()\n",
    "print(next(p2))\n",
    "\n",
    "for i in range(3):\n",
    "    print(next(p2))"
   ]
  },
  {
   "cell_type": "markdown",
   "id": "1ff9c901-3c58-4200-94e9-2ae7e006ac22",
   "metadata": {},
   "source": [
    "Note that only one data value is generated by the iterator. There is no memory used to store multiple powers of 2. "
   ]
  },
  {
   "cell_type": "markdown",
   "id": "fb041a76-4e76-4c9e-8582-5138fc4501b6",
   "metadata": {},
   "source": [
    "## Generator \n",
    "- a simple way to implement an iterator class\n",
    "- most of the time when we want an iterator, we write a generator instead\n",
    "\n",
    "There are two ways to write a generator:\n",
    "1. a generator *expression* ==> simplet coding but it can only be used with a finite sequence of data\n",
    "2. a generator *function* ==> more coding (not as much as writing an iterator directly) but it can work with an infinite sequence"
   ]
  },
  {
   "cell_type": "markdown",
   "id": "c01ab14a-9ffb-49ee-b015-28a7f973ab97",
   "metadata": {},
   "source": [
    "\n",
    "<div style=\"text-align:center;\">\n",
    "    <img src=\"https://media.licdn.com/dms/image/D4D12AQF2avI7qeUjMw/article-cover_image-shrink_720_1280/0/1682146643594?e=1718841600&v=beta&t=-4GMYb11TzTsfNCtsavBr005ER9aTV1AM6jO6hVrMsA\" style=\"width:350px; height:300px; margin: 0 auto;\"/>\n",
    "</div>\n"
   ]
  },
  {
   "cell_type": "markdown",
   "id": "8acda2c1-db4c-402f-94ab-0866d63f2b93",
   "metadata": {},
   "source": [
    "### 1) Generator Expression:"
   ]
  },
  {
   "cell_type": "code",
   "execution_count": null,
   "id": "122f7719-bf2f-4f08-b1ee-d0b94389e1de",
   "metadata": {},
   "outputs": [],
   "source": [
    "gen = ( elem for elem in iterable if condition)\n",
    "\n",
    "# Usage:\n",
    "val = next(gen)"
   ]
  },
  {
   "cell_type": "code",
   "execution_count": 42,
   "id": "b7689b22-6c69-4431-998e-d0fe9d91f672",
   "metadata": {},
   "outputs": [
    {
     "name": "stdout",
     "output_type": "stream",
     "text": [
      "2\n",
      "4\n",
      "8\n",
      "16\n"
     ]
    }
   ],
   "source": [
    "p2 = (2** num for num in range(1,1001))\n",
    "print(next(p2))\n",
    "for i in range(3):\n",
    "    print(next(p2))"
   ]
  },
  {
   "cell_type": "markdown",
   "id": "396f9126-b2a9-4d63-b76d-aa4e0af6c98f",
   "metadata": {},
   "source": [
    "### 2) Generator Comprehension:"
   ]
  },
  {
   "cell_type": "code",
   "execution_count": 43,
   "id": "92407764-a395-44b8-b168-613caec4dde7",
   "metadata": {},
   "outputs": [],
   "source": [
    "p2 = [2** num for num in range(1,1001)]"
   ]
  },
  {
   "cell_type": "markdown",
   "id": "ab6676f7-8d6c-4c4a-aaad-c8b743e52026",
   "metadata": {},
   "source": [
    "### What is the difference between () or []? \n",
    "\n",
    "**Comprehension expression:**\n",
    "- Pro: because the list is stored, we can walk forward or backward to fetch any data as many times as we like\n",
    "- Con: produces a list with al 1000 data values, which needs to be stored and takes up memory space, and we might not need all 1000 values\n",
    "\n",
    "**Generator expression:**\n",
    "- Pro: produces no data value unless requested with next() so no data storage neede. This on-demand generayion is also called <u>lazy evaluation</u>, the work to generate data is only done when needed\n",
    "- Con: can only go to the next data (no going back to previous data), and once data is fetched with next(), we cannot fetch it again\n"
   ]
  },
  {
   "cell_type": "markdown",
   "id": "26cf72a6-97a5-4d3c-a8a4-f7ca975e0919",
   "metadata": {},
   "source": [
    "## Generator Function\n",
    "- when we want a genertor that works with an indi\n",
    "- the generator function must include a yield keyword, which returns the next value in the sequence\n",
    "- **it is the <u>yield</u> that makes Python interpret the function as a generator function**"
   ]
  },
  {
   "cell_type": "code",
   "execution_count": 45,
   "id": "74c2b784-9c39-435d-8f92-1bdffdf1696c",
   "metadata": {},
   "outputs": [
    {
     "name": "stdout",
     "output_type": "stream",
     "text": [
      "1\n",
      "2\n",
      "4\n",
      "8\n"
     ]
    }
   ],
   "source": [
    "def Powers2():\n",
    "    exp = 0\n",
    "    while True:\n",
    "        yield 2 ** exp\n",
    "        exp += 1\n",
    "\n",
    "p2 = Powers2()\n",
    "print(next(p2))\n",
    "for i in range(3):\n",
    "    print(next(p2))"
   ]
  },
  {
   "cell_type": "markdown",
   "id": "cf305bc7-d9f6-4e35-bd20-3b9eb38c1a41",
   "metadata": {},
   "source": [
    "## Examples:"
   ]
  },
  {
   "cell_type": "code",
   "execution_count": 54,
   "id": "fac7c9d8-8b27-4a83-9080-249f4b586f4d",
   "metadata": {},
   "outputs": [
    {
     "name": "stdout",
     "output_type": "stream",
     "text": [
      "first\n",
      "second\n",
      "third\n"
     ]
    }
   ],
   "source": [
    "def gen_demo():\n",
    "    yield \"first\"\n",
    "    yield \"second\"\n",
    "    yield \"third\"\n",
    "\n",
    "gen = gen_demo()\n",
    "\n",
    "print(next(gen))\n",
    "print(next(gen))\n",
    "print(next(gen))"
   ]
  },
  {
   "cell_type": "code",
   "execution_count": 55,
   "id": "ea0e0d84-4422-454c-ad38-de690584d5a1",
   "metadata": {},
   "outputs": [
    {
     "name": "stdout",
     "output_type": "stream",
     "text": [
      "15\n",
      "16\n",
      "17\n",
      "18\n",
      "19\n",
      "20\n",
      "21\n",
      "22\n",
      "23\n",
      "24\n",
      "25\n"
     ]
    }
   ],
   "source": [
    "def my_range(start,end):\n",
    "    for i in range(start,end):\n",
    "        yield i \n",
    "\n",
    "for i in my_range(15,26):\n",
    "    print(i)"
   ]
  },
  {
   "cell_type": "code",
   "execution_count": 56,
   "id": "43898bee-6aa0-4dab-93bf-8f63571c243f",
   "metadata": {},
   "outputs": [
    {
     "name": "stdout",
     "output_type": "stream",
     "text": [
      "1\n",
      "4\n",
      "9\n",
      "16\n",
      "25\n",
      "36\n",
      "49\n",
      "64\n",
      "81\n",
      "100\n",
      "121\n",
      "144\n",
      "169\n",
      "196\n",
      "225\n",
      "256\n",
      "289\n",
      "324\n",
      "361\n",
      "400\n",
      "441\n",
      "484\n",
      "529\n",
      "576\n",
      "625\n",
      "676\n",
      "729\n",
      "784\n",
      "841\n"
     ]
    }
   ],
   "source": [
    "gen = (i**2 for i in range(1,30))\n",
    "for i in gen:\n",
    "    print(i)"
   ]
  },
  {
   "cell_type": "markdown",
   "id": "cf17451e-03d9-4e84-a659-4cfa88c09c16",
   "metadata": {},
   "source": [
    "## Advantages of Iterators and Generators \n",
    "- **very efficent** ways to get a subset of consecutive values from a **large data sequence**\n",
    "- **eliminates the CPU time** to generate extra values that may not be needed if the user only wants a couple of values\n",
    "- also **saves a lot of memory space** because there's no need to keep a big list\n",
    "- a generator is a **shortcut** to writing a full iterator\n",
    "  - either as a function with yield or as a generator expression\n",
    "- generator only moves forward (move to the next element in the sequence)\n",
    "  - if we want to be able to \"undo\" the previous next() call, we can write the iterator and provide a backup() method to go back to the previous element "
   ]
  }
 ],
 "metadata": {
  "kernelspec": {
   "display_name": "Python 3 (ipykernel)",
   "language": "python",
   "name": "python3"
  },
  "language_info": {
   "codemirror_mode": {
    "name": "ipython",
    "version": 3
   },
   "file_extension": ".py",
   "mimetype": "text/x-python",
   "name": "python",
   "nbconvert_exporter": "python",
   "pygments_lexer": "ipython3",
   "version": "3.12.1"
  }
 },
 "nbformat": 4,
 "nbformat_minor": 5
}
