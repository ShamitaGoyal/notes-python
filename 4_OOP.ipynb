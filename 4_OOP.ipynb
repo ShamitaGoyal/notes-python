{
 "cells": [
  {
   "cell_type": "markdown",
   "id": "aa6b2aff-c5c3-43f2-a33d-b35a8f3b87bd",
   "metadata": {},
   "source": [
    "## <center> 4. SUPER(), TYPES OF INHERITANCE, MRO, & POLYMORPHISM </center>"
   ]
  },
  {
   "cell_type": "markdown",
   "id": "3a200946-a754-4b09-b93a-1c863c919827",
   "metadata": {},
   "source": [
    "## Super()\n",
    "-  a built-in function used to call methods of a parent class from a child class\n",
    "-  it provides a way to access methods and properties of the parent class that have been overridden or extended in the child class\n",
    "-  super() does not work outside the class\n",
    "-  usually used to invoke the constructor\n",
    "\n",
    "What can you access with super():\n",
    "- parent class's methods\n",
    "- parent class's constructor\n",
    "\n",
    "#### <center>You can't access the attributes of the parent class with super().</center>"
   ]
  },
  {
   "cell_type": "code",
   "execution_count": 1,
   "id": "3ea695c3-baa1-4aa6-88d7-ead4d06afe7e",
   "metadata": {},
   "outputs": [
    {
     "name": "stdout",
     "output_type": "stream",
     "text": [
      "inside phone constructor\n",
      "buying a smartphone\n",
      "buying a phone\n"
     ]
    }
   ],
   "source": [
    "class Phone:\n",
    "    def __init__(self, price, brand, camera):\n",
    "        print(\"inside phone constructor\")\n",
    "        self.__price = price\n",
    "        self.brand = brand\n",
    "        self.camera = camera\n",
    "    def buy(self):\n",
    "        print(\"buying a phone\")\n",
    "\n",
    "\n",
    "class SmartPhone(Phone):\n",
    "    def buy(self):\n",
    "        print(\"buying a smartphone\")\n",
    "        super().buy() # using super()\n",
    "\n",
    "s = SmartPhone(200000, \"Apple\", 13)\n",
    "s.buy()"
   ]
  },
  {
   "cell_type": "raw",
   "id": "309dcce2-3a27-4a8c-b6eb-78a7504a09d1",
   "metadata": {},
   "source": [
    "1. Constructor in child and parent class"
   ]
  },
  {
   "cell_type": "code",
   "execution_count": 5,
   "id": "4a4beb78-fd79-4bc6-a5cc-1ab1c5fb143d",
   "metadata": {},
   "outputs": [
    {
     "name": "stdout",
     "output_type": "stream",
     "text": [
      "First you come here\n",
      "inside phone constructor\n",
      "inside smartphone constructor\n",
      "Android\n",
      "Apple\n"
     ]
    }
   ],
   "source": [
    "class Phone:\n",
    "    def __init__(self, price, brand, camera):\n",
    "        print(\"inside phone constructor\")\n",
    "        self.__price = price\n",
    "        self.brand = brand\n",
    "        self.camera = camera\n",
    " \n",
    "class SmartPhone(Phone):\n",
    "    def __init__(self, price, brand, camera, os, ram):\n",
    "        print(\"First you come here\")\n",
    "        super().__init__(price, brand, camera) # will go to the parent class\n",
    "        self.os = os\n",
    "        self.ram = ram\n",
    "        print(\"inside smartphone constructor\")\n",
    "\n",
    "s = SmartPhone(200000, \"Apple\", 13, \"Android\", 2)\n",
    "print(s.os)\n",
    "print(s.brand)"
   ]
  },
  {
   "cell_type": "code",
   "execution_count": 1,
   "id": "6625b059-d899-49c8-a2ef-edef6e319a4c",
   "metadata": {},
   "outputs": [
    {
     "name": "stdout",
     "output_type": "stream",
     "text": [
      "100\n",
      "200\n"
     ]
    }
   ],
   "source": [
    "class Parent:\n",
    "    def __init__(self,num):\n",
    "        self.__num = num\n",
    "    def get_num(self):\n",
    "        return self.__num\n",
    "\n",
    "class Child(Parent):\n",
    "    def __init__(self,num,val):\n",
    "        super().__init__(num) # this should be your first statement\n",
    "        self.__val = val\n",
    "    def get_val(self):\n",
    "        return self.__val \n",
    "\n",
    "son = Child(100,200)\n",
    "print(son.get_num())\n",
    "print(son.get_val())"
   ]
  },
  {
   "cell_type": "code",
   "execution_count": 3,
   "id": "a4b5dcb6-ebf9-4158-bc99-392ae5a48c6c",
   "metadata": {},
   "outputs": [
    {
     "name": "stdout",
     "output_type": "stream",
     "text": [
      "100\n",
      "200\n"
     ]
    }
   ],
   "source": [
    "class Parent:\n",
    "    def __init__(self):\n",
    "        self.num = 100\n",
    "\n",
    "class Child(Parent):\n",
    "    def __init__(self):\n",
    "        super().__init__()\n",
    "        self.var = 200\n",
    "    def show(self):\n",
    "        print(self.num)\n",
    "        print(self.var)\n",
    "\n",
    "son = Child()\n",
    "son.show()\n",
    "\n",
    "# inside the child class can you use self, to get the parent classe's attributes?\n",
    "# yes, you can"
   ]
  },
  {
   "cell_type": "code",
   "execution_count": 4,
   "id": "7ef3d0dc-236a-424e-a13f-52f20df60ebc",
   "metadata": {},
   "outputs": [
    {
     "name": "stdout",
     "output_type": "stream",
     "text": [
      "parent: 100\n",
      "child: 10\n"
     ]
    }
   ],
   "source": [
    "class Parent:\n",
    "    def __init__(self):\n",
    "        self.__num = 100\n",
    "    def show(self):\n",
    "        print(\"parent:\", self.__num)\n",
    "\n",
    "class Child(Parent):\n",
    "    def __init__(self):\n",
    "        super().__init__()\n",
    "        self.__var = 10\n",
    "    def show(self):\n",
    "        print(\"child:\", self.__var)\n",
    "\n",
    "dad = Parent()\n",
    "dad.show()\n",
    "son = Child()\n",
    "son.show()\n",
    "\n",
    "#method overriding"
   ]
  },
  {
   "cell_type": "markdown",
   "id": "94c8b98e-387e-4852-a4ec-f757d9db9f38",
   "metadata": {},
   "source": [
    "## Continuing Inheritance From Previous Notes..."
   ]
  },
  {
   "cell_type": "markdown",
   "id": "10e02adf-778a-46e8-8816-59793641c7b8",
   "metadata": {},
   "source": [
    "<div style=\"text-align:center;\">\n",
    "    <img src=\"https://miro.medium.com/v2/resize:fit:720/format:webp/0*syL4c5DS5mMcMqwS\" alt=\"Description of image\" style=\"width:500px;height:200px;\"/>\n",
    "</div>\n",
    "\n",
    "<center>There are 4 types of inheritance.</center>\n",
    "\n",
    "----------\n",
    "\n",
    "As a side note:\n",
    "- Languages like Java don't have multiple inheritance\n",
    "- Hybrid inheritance --> a combination between the 4 inheritance"
   ]
  },
  {
   "cell_type": "markdown",
   "id": "10282947-b0de-43f2-a0dd-f8efe8433e5b",
   "metadata": {},
   "source": [
    "<div style=\"text-align:center;\">\n",
    "    <img src=\"https://media.geeksforgeeks.org/wp-content/uploads/20231020172409/Hybrid-Inheritance-in-CPP.png\" alt=\"Description of image\" style=\"width:500px;height:400px;\"/>\n",
    "</div>"
   ]
  },
  {
   "cell_type": "markdown",
   "id": "b468887d-5be9-41ff-8bee-3a1d39310992",
   "metadata": {},
   "source": [
    "All this time we looked at single inhertiance, lets look at some of the other inheritances. "
   ]
  },
  {
   "cell_type": "raw",
   "id": "4ddcef39-1566-4ffe-a9a0-621959f8e02c",
   "metadata": {},
   "source": [
    "1. Multilevel inheritance"
   ]
  },
  {
   "cell_type": "code",
   "execution_count": 5,
   "id": "87144ebe-0c6b-449e-a5fd-e611be2b22f9",
   "metadata": {},
   "outputs": [
    {
     "name": "stdout",
     "output_type": "stream",
     "text": [
      "Inside phone constructor\n",
      "Inside phone constructor\n",
      "Buying a phone\n",
      "Product customer review\n",
      "Product customer review\n"
     ]
    }
   ],
   "source": [
    "class Product:\n",
    "    def review(self):\n",
    "        print(\"Product customer review\")\n",
    "\n",
    "class Phone(Product):\n",
    "    def __init__(self,price,brand,camera):\n",
    "        print(\"Inside phone constructor\")\n",
    "        self.__price = price\n",
    "        self.brand = brand\n",
    "        self.camera = camera\n",
    "    def buy(self):\n",
    "        print(\"Buying a phone\")\n",
    "\n",
    "class SmartPhone(Phone):\n",
    "    pass \n",
    "\n",
    "\n",
    "s = SmartPhone(2000, \"Apple\", 12)\n",
    "p = Phone(10000, \"Samsung\", 1)\n",
    "\n",
    "s.buy()\n",
    "s.review()\n",
    "p.review()"
   ]
  },
  {
   "cell_type": "raw",
   "id": "28fabb1f-4581-4fc9-b1a9-ca7dd3f7dbf2",
   "metadata": {},
   "source": [
    "2. Hierarchical Inheritance"
   ]
  },
  {
   "cell_type": "code",
   "execution_count": 7,
   "id": "d4b13912-4a42-4432-8ea2-4fee1229a173",
   "metadata": {},
   "outputs": [
    {
     "name": "stdout",
     "output_type": "stream",
     "text": [
      "Inside phone constructor\n",
      "Buying a phone\n"
     ]
    }
   ],
   "source": [
    "class Phone:\n",
    "    def __init__(self,price,brand,camera):\n",
    "        print(\"Inside phone constructor\")\n",
    "        self.__price = price\n",
    "        self.brand = brand\n",
    "        self.camera = camera\n",
    "    def buy(self):\n",
    "        print(\"Buying a phone\")\n",
    "    def return_phone(self):\n",
    "        print(\"returning a phone\")\n",
    "\n",
    "class SmartPhone(Phone):\n",
    "    pass \n",
    "\n",
    "class FeaturePhone(Phone):\n",
    "    pass\n",
    "\n",
    "\n",
    "SmartPhone(2000, \"Apple\", 12).buy()"
   ]
  },
  {
   "cell_type": "raw",
   "id": "d7733ad8-969b-4090-a3cd-a94048777532",
   "metadata": {},
   "source": [
    "3. Multiple Inhertiance "
   ]
  },
  {
   "cell_type": "code",
   "execution_count": 10,
   "id": "71bba8c7-4df5-451d-b045-19c1da674229",
   "metadata": {},
   "outputs": [
    {
     "name": "stdout",
     "output_type": "stream",
     "text": [
      "Inside phone constructor\n",
      "Buying a phone\n",
      "Product review\n"
     ]
    }
   ],
   "source": [
    "class Phone(Product):\n",
    "    def __init__(self,price,brand,camera):\n",
    "        print(\"Inside phone constructor\")\n",
    "        self.__price = price\n",
    "        self.brand = brand\n",
    "        self.camera = camera\n",
    "    def buy(self):\n",
    "        print(\"Buying a phone\")\n",
    "        \n",
    "class Product:\n",
    "    def review(self):\n",
    "        print(\"Product review\")\n",
    "        \n",
    "class SmartPhone(Phone, Product): # two classes inherited here\n",
    "    pass \n",
    "\n",
    "\n",
    "s = SmartPhone(2000, \"Apple\", 12)\n",
    "s.buy()\n",
    "s.review()"
   ]
  },
  {
   "cell_type": "raw",
   "id": "83293264-b030-4304-b4c0-4c71106baca8",
   "metadata": {},
   "source": [
    "(MRO) — Method Resolution Order "
   ]
  },
  {
   "cell_type": "code",
   "execution_count": 32,
   "id": "01280040-b03b-4e31-ace5-9b3e4145912f",
   "metadata": {},
   "outputs": [
    {
     "name": "stdout",
     "output_type": "stream",
     "text": [
      "Inside phone constructor\n",
      "Product buy method\n"
     ]
    }
   ],
   "source": [
    "class Phone(Product):\n",
    "    def __init__(self,price,brand,camera):\n",
    "        print(\"Inside phone constructor\")\n",
    "        self.__price = price\n",
    "        self.brand = brand\n",
    "        self.camera = camera\n",
    "    def buy(self):\n",
    "        print(\"Buying a phone\")\n",
    "        \n",
    "class Product:\n",
    "    def buy(self):\n",
    "        print(\"Product buy method\")\n",
    "        \n",
    "class SmartPhone(Product, Phone): # Product is written first then phone ==> Flip Phone and Product to see how the output changes\n",
    "    pass \n",
    "\n",
    "\n",
    "s = SmartPhone(2000, \"Apple\", 12)\n",
    "s.buy()\n",
    "\n",
    "# MRO — the class that gets inherited first gets executed first"
   ]
  },
  {
   "cell_type": "code",
   "execution_count": 16,
   "id": "2d1709fa-6919-481a-bb34-95c54f9ae9a5",
   "metadata": {},
   "outputs": [
    {
     "name": "stdout",
     "output_type": "stream",
     "text": [
      "70\n"
     ]
    }
   ],
   "source": [
    "class A: # Dada\n",
    "    def m1(self):\n",
    "        return 20 \n",
    "        \n",
    "class B(A): # Papa\n",
    "    def m1(self):\n",
    "        return 30\n",
    "    def m2(self):\n",
    "        return 40 \n",
    "\n",
    "class C(B): # Child\n",
    "    def m2(self):\n",
    "        return 20 \n",
    "\n",
    "obj1 = A()\n",
    "obj2 = B()\n",
    "obj3 = C()\n",
    "print(obj1.m1() + obj3.m1() + obj3.m2())\n",
    "\n",
    "# 20 + 30 + 20 = 70"
   ]
  },
  {
   "cell_type": "code",
   "execution_count": 18,
   "id": "a1ade9c4-c6d2-40ba-86b4-91e94a7168c7",
   "metadata": {},
   "outputs": [],
   "source": [
    "class A:\n",
    "    def m1(self):\n",
    "        return 20\n",
    "\n",
    "class B(A):\n",
    "    def m1(self):\n",
    "        val = super().m1()+30\n",
    "        return val \n",
    "\n",
    "class C(B):\n",
    "    def m1(self):\n",
    "        val = self.m1()+20\n",
    "        return val \n",
    "\n",
    "obj = C()\n",
    "# uncomment the following statement to see what happens:\n",
    "# print(obj.m1())\n",
    "\n",
    "# RecursionError: maximum recursion depth exceeded \n",
    "# the m1 function keeps getting called, keeps getting called\n",
    "# since self --> obj so obj.m1() keeps getting called "
   ]
  },
  {
   "cell_type": "markdown",
   "id": "39d23655-82ff-41d1-b254-3feedfc5ebfc",
   "metadata": {},
   "source": [
    "## Polymorphism \n",
    "- literally means --> \"having many forms\" or \"taking many shapes\n",
    "\n",
    "1. Method Overriding ==> Child changes parent's method.\n",
    "2. Method Overloading ==> Same name, different parameters\n",
    "3. Operator Overloading ==> Making symbols like +, -, *, / work differently for different types of objects, like adding numbers or concatenating strings\n",
    "4. Duck typing ==> If it looks like a duck and quacks like a duck, it's treated as a duck"
   ]
  },
  {
   "cell_type": "markdown",
   "id": "add72fdc-b495-43fe-b9df-36eb24b8d0c3",
   "metadata": {},
   "source": [
    "We've looked at overriding in the previous notes, so we will take a look at the other methods. "
   ]
  },
  {
   "cell_type": "raw",
   "id": "76d244c9-4ba3-46a9-8189-5dd6f513d16f",
   "metadata": {},
   "source": [
    "1. Method Overloading"
   ]
  },
  {
   "cell_type": "code",
   "execution_count": 20,
   "id": "aa20fbea-b5c3-46fb-a15e-3c694d5165a0",
   "metadata": {},
   "outputs": [],
   "source": [
    "class Geometry:\n",
    "    def area(self,radius):\n",
    "        return 3.14 * radius * radius\n",
    "    def area(self,l,b):\n",
    "        return l * b \n",
    "\n",
    "obj = Geometry()\n",
    "# excecute the following statement to see what happens:\n",
    "#print(obj.area(4))"
   ]
  },
  {
   "cell_type": "markdown",
   "id": "b04c3adc-11c5-467c-9f18-6398de8ef0e8",
   "metadata": {},
   "source": [
    "Method overloading is where you can define multiple methods in a class with the same name but with different parameters or a different number of parameters. The methods are differentiated by their parameter lists or signatures. Since the class has two functions with the same name, the second one overides the first function. Then, when you make an obj.area(4), you are calling the second function, but the second function requires 2 arguments. In Python, you cannot have two methods/functions with the same name and expect them to execute different outputs. This, however, will work in Java or C++. Tecnically, method overloading does not work in Python, but you can work ways around it. "
   ]
  },
  {
   "cell_type": "code",
   "execution_count": 22,
   "id": "dea5e478-2dba-465c-94ce-1f597daf1a8c",
   "metadata": {},
   "outputs": [
    {
     "name": "stdout",
     "output_type": "stream",
     "text": [
      "circle: 50.24\n",
      "rect: 20\n"
     ]
    }
   ],
   "source": [
    "class Geometry:\n",
    "    def area(self,a, b=0):\n",
    "        if b == 0:\n",
    "            print(\"circle:\", 3.14 * a * a)\n",
    "        else:\n",
    "            print(\"rect:\", a*b)\n",
    "\n",
    "obj = Geometry()\n",
    "obj.area(4)\n",
    "obj.area(4,5)"
   ]
  },
  {
   "cell_type": "markdown",
   "id": "f1ab9ced-5c62-483e-a01c-a168bb0d7c90",
   "metadata": {},
   "source": [
    "That said, Python supports a form of method overloading using default parameter values and variable-length argument lists. You can define a single method with default parameter values or use *args and **kwargs to accept variable numbers of arguments. Based on the number and type of arguments passed when calling the method, you can implement different behavior within the method. In this case, we are still doing method overloading but we were able to make the function work despite it taking in multiple inputs through a default argument. Your one method is able to execute and behave differently based off of it getting different inputs. "
   ]
  },
  {
   "cell_type": "raw",
   "id": "e6188293-61dc-40aa-8600-dda61ca57362",
   "metadata": {},
   "source": [
    "2. Operator Overloading"
   ]
  },
  {
   "cell_type": "code",
   "execution_count": 23,
   "id": "48f795e5-ae0f-4b9a-9248-54b32986634e",
   "metadata": {},
   "outputs": [
    {
     "name": "stdout",
     "output_type": "stream",
     "text": [
      "4 6\n"
     ]
    }
   ],
   "source": [
    "class Vector:\n",
    "    def __init__(self, x, y):\n",
    "        self.x = x\n",
    "        self.y = y\n",
    "    \n",
    "    def __add__(self, other):\n",
    "        return Vector(self.x + other.x, self.y + other.y)\n",
    "\n",
    "\n",
    "v1 = Vector(1, 2)\n",
    "v2 = Vector(3, 4)\n",
    "result = v1 + v2\n",
    "print(result.x, result.y)"
   ]
  },
  {
   "cell_type": "markdown",
   "id": "4b04e2b8-c97d-42d6-b8c0-393df1fe82c3",
   "metadata": {},
   "source": [
    "Operator overloading allows you to define how operators behave for user-defined classes. This means you can define custom behavior for operators like +, -, *, /, ==, !=, and many others. Here, the + operator is overloaded to perform vector addition, demonstrating polymorphic behavior where the + operator behaves differently depending on the types of objects involved (in this case, instances of the Vector class)."
   ]
  },
  {
   "cell_type": "markdown",
   "id": "aab047b7-03cc-4aca-8c59-6fb825406229",
   "metadata": {},
   "source": [
    "3. Ducking Typing"
   ]
  },
  {
   "cell_type": "code",
   "execution_count": 24,
   "id": "e9edb98e-dd37-4154-a0c4-b2391a81f54a",
   "metadata": {},
   "outputs": [
    {
     "name": "stdout",
     "output_type": "stream",
     "text": [
      "Quack!\n",
      "I'm not a duck, but I can quack like one!\n"
     ]
    }
   ],
   "source": [
    "class Duck:\n",
    "    def quack(self):\n",
    "        return \"Quack!\"\n",
    "\n",
    "class Person:\n",
    "    def quack(self):\n",
    "        return \"I'm not a duck, but I can quack like one!\"\n",
    "\n",
    "def make_quack(obj):\n",
    "    return obj.quack()\n",
    "\n",
    "duck = Duck()\n",
    "person = Person()\n",
    "\n",
    "print(make_quack(duck)) \n",
    "print(make_quack(person)) \n"
   ]
  },
  {
   "cell_type": "markdown",
   "id": "a72c4d9e-bf9a-466a-84fb-0bde775e70cc",
   "metadata": {},
   "source": [
    "In duck typing we're interested in what \"objects\" can do, rather than what they are. This means that we are less concerned with the class/type of an object and more concerned with what methods can be called on it and what operations can be performed on it. We don't care about it's type, we care about what it can do. To summarize, a \"duck typed\" language shall not check its type (neither at compile time nor run-time)--it doesn't care to. It will just try the methods at run-time. If they work, great. If they don't, then it shall throw a run-time error."
   ]
  },
  {
   "cell_type": "code",
   "execution_count": 31,
   "id": "f55161c6-2466-435d-8889-1225e4b32361",
   "metadata": {},
   "outputs": [
    {
     "name": "stdout",
     "output_type": "stream",
     "text": [
      "Duck swimming\n",
      "Whale swimming\n"
     ]
    }
   ],
   "source": [
    "# this ex. demonstrates how any object may be used in any context until it is used in a way that it does not support:\n",
    "class Duck:\n",
    "    def swim(self):\n",
    "        print(\"Duck swimming\")\n",
    "\n",
    "    def fly(self):\n",
    "        print(\"Duck flying\")\n",
    "\n",
    "class Whale:\n",
    "    def swim(self):\n",
    "        print(\"Whale swimming\")\n",
    "\n",
    "for animal in [Duck(), Whale()]:\n",
    "    animal.swim() # Duck().swim(), Whale().swim()\n",
    "    animal.fly() # Duck().fly(), Whale().fly()\n",
    "\n",
    "# output:\n",
    "# Duck swimming\n",
    "# Duck flying\n",
    "# Whale swimming\n",
    "# AttributeError: 'Whale' object has no attribute 'fly'"
   ]
  }
 ],
 "metadata": {
  "kernelspec": {
   "display_name": "Python 3 (ipykernel)",
   "language": "python",
   "name": "python3"
  },
  "language_info": {
   "codemirror_mode": {
    "name": "ipython",
    "version": 3
   },
   "file_extension": ".py",
   "mimetype": "text/x-python",
   "name": "python",
   "nbconvert_exporter": "python",
   "pygments_lexer": "ipython3",
   "version": "3.12.1"
  }
 },
 "nbformat": 4,
 "nbformat_minor": 5
}
