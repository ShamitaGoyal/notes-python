{
 "cells": [
  {
   "cell_type": "markdown",
   "id": "61846ba1-82e8-4e97-8178-a877cf027340",
   "metadata": {},
   "source": [
    "### <center>An Introduction to Computers & the Python Programming Language</center>\n",
    "<center>created 2/23/24</center>"
   ]
  },
  {
   "attachments": {},
   "cell_type": "markdown",
   "id": "b29289e9-b120-4f78-93c8-462a71792634",
   "metadata": {},
   "source": [
    "<div style=\"text-align:center;\">\n",
    "    <img src=\"https://media.geeksforgeeks.org/wp-content/uploads/20230427120343/Difference-between-Hardware-and-Software.webp\" style=\"width:500px;height:300px;\"/>\n",
    "</div>"
   ]
  },
  {
   "cell_type": "markdown",
   "id": "892574a5-7780-4471-b3d6-cb42bbb6fefb",
   "metadata": {},
   "source": [
    "## Computer Hardware "
   ]
  },
  {
   "cell_type": "markdown",
   "id": "9b620ade-789b-4439-87a0-073e4990dea3",
   "metadata": {},
   "source": [
    "1) **Hardware** --> consists of the physical elements in a comp system \n",
    "- ex. monitor, mouse, external storage, keyboard, etc\n",
    "\n",
    "2) **CPU (central processing unit)** --> performs program control and data processing \n",
    "\n",
    "3) **Storage devices** \n",
    "- memory (RAM)\n",
    "- secondary storage: hard disk, flash drives, CD/DVD drives, etc\n",
    "\n",
    "4) **Input/output devices** --> allow the user to interact with the computer\n",
    "- ex. mouse, keyboard, printer, screen, etc"
   ]
  },
  {
   "attachments": {},
   "cell_type": "markdown",
   "id": "8294d2f6-ea49-404f-abcf-53e6fe64eee7",
   "metadata": {},
   "source": [
    "<div style=\"text-align:center;\">\n",
    "    <img src=\"https://cdn.educba.com/academy/wp-content/uploads/2019/12/Types-of-Computer-Hardware-1-1.jpg.webp\" alt=\"Description of image\" style=\"width:500px;height:300px;\"/>\n",
    "</div>"
   ]
  },
  {
   "cell_type": "markdown",
   "id": "c4cfe084-ea87-450a-9352-d9d8c6e97f79",
   "metadata": {},
   "source": [
    "## CPU\n",
    "- has two components --> **control unit** & **arthimetic logic unit**\n",
    "- like the brain of a computer\n",
    "- a small chip that performs most of the calculations and instructions needed to run programs and operate the computer\n",
    "\n",
    "------------\n",
    "\n",
    "**Control unit** --> directs operation of the processor\n",
    "- main job is to direct the flow of data and instructions within the CPU and between the CPU and other parts of the computer\n",
    "- it reads and interprets instructions and determines the sequence for processing the data\n",
    "- think of it as the traffic controller in a busy intersection, making sure that each car (or instruction) knows where to go and when to move\n",
    "\n",
    "-----------------\n",
    "\n",
    "**Arthimetic logic unit**\n",
    "- responsible for performing arithmetic operations (like addition, subtraction, multiplication, and division) and logical operations (like AND, OR, NOT) on data\n",
    "- if you're adding two numbers in a program, the CPU's ALU would perform the addition operation to get the result"
   ]
  },
  {
   "cell_type": "markdown",
   "id": "84fb0fef-8e0f-480c-abd0-d6d0d3029f6b",
   "metadata": {},
   "source": [
    "<div style=\"text-align:center;\">\n",
    "    <img src=\"https://i.insider.com/60402d8eb46d720018b04c1f?width=1000&format=jpeg&auto=webp\" alt=\"Description of image\" style=\"width:500px;height:300px;\"/>\n",
    "</div>\n",
    "\n",
    "### <center>This is a CPU</center>\n",
    "\n",
    "---------------"
   ]
  },
  {
   "cell_type": "markdown",
   "id": "1e9c5071-8878-4e5a-a9c0-ffc95e8d01d6",
   "metadata": {},
   "source": [
    "## Storage \n",
    "- the place where data is kept for later use\n",
    "- two types of storage --> **primary & secondary storage**\n",
    "\n",
    "**Primary storage** \n",
    "- like the computer's **short-term memory**\n",
    "- also known as main memory or RAM (Random Access Memory)\n",
    "- the storage area that the computer's processor can access quickly\n",
    "- is volatile --> its contents are lost when the computer is turned off\n",
    "- is composed of memory chips: electronic circuits that can store data as long as it is provided electric power\n",
    "\n",
    "**Secondary Storage**\n",
    "-  like the computer's **long-term memory**\n",
    "-  hold data for the long term, even when the computer is turned off/without electric power\n",
    "-  less expensive storage that is persistent"
   ]
  },
  {
   "cell_type": "markdown",
   "id": "b44a7acf-de82-4d20-89f6-d648718a60cd",
   "metadata": {},
   "source": [
    "## <u>Examples:</u>\n",
    "\n",
    "**Primary storage:**\n",
    "-  CPU Cache --> CPUs often have small amounts of very fast memory called cache\n",
    "-  This memory is used to store frequently accessed data and instructions, further speeding up the CPU's performance\n",
    "\n",
    "**Secondary Storage:**\n",
    "- USB Flash Drive\n",
    "- Hard Disk Drive (HDD)\n",
    "\n",
    "-----------"
   ]
  },
  {
   "cell_type": "markdown",
   "id": "ded3b0ca-30ec-49cc-a294-426b44bf4947",
   "metadata": {},
   "source": [
    "## Bytes\n",
    "- is a unit of digital information that represents **a small piece of data**\n",
    "- it's the basic building block used to **store and represent data in a computer**\n",
    "\n",
    "<center>Think of a byte like a single character in a text message, such as a letter, number, or symbol. It's the smallest unit of storage that a computer understands, and it can represent a wide range of things, from a single letter in a word to a pixel in an image or a single digit in a number.</center>\n",
    "\n",
    "- byte --> 8 bits\n",
    "- kilobyte --> 1025 bytes\n",
    "- megabyte --> 1,048,576 bytes\n",
    "- gigabyte --> 1,073,741,824 bytes"
   ]
  },
  {
   "cell_type": "markdown",
   "id": "5233c349-5243-4b58-8d17-da392daafa94",
   "metadata": {},
   "source": [
    "<div style=\"text-align:center;\">\n",
    "    <img src=\"https://image.semiconductor.samsung.com/image/samsung/p6/semiconductor/suppport/toolsandresources/dictionary/bits-and-bytes-units-of-data_1_en.jpeg?$ORIGIN_JPG$\" alt=\"Description of image\" style=\"width:500px;height:300px;\"/>\n",
    "</div>\n",
    "\n",
    "---------------"
   ]
  },
  {
   "attachments": {},
   "cell_type": "markdown",
   "id": "a4df31c9-a298-4d41-a47f-59e47468218a",
   "metadata": {},
   "source": [
    "## Memory\n",
    "- refers to the electronic components that store data temporarily or permanently for processing by the CPU and other components\n",
    "- the \"typical\" computer has a main memory ranging from 4 gigabytes to 32 gigabytes"
   ]
  },
  {
   "attachments": {},
   "cell_type": "markdown",
   "id": "a945da73-0f1c-48d4-a871-258cdcd42daf",
   "metadata": {},
   "source": [
    "<div style=\"text-align:center;\">\n",
    "    <img src=\"https://www.testingdocs.com/wp-content/uploads/Types-of-Computer-Software-1024x513.png\" style=\"width:500px;height:300px;\"/>\n",
    "</div>\n",
    "\n",
    "----------------"
   ]
  },
  {
   "cell_type": "markdown",
   "id": "3593bc3f-09f8-4ea7-8155-9b64ca6515b9",
   "metadata": {},
   "source": [
    "## Software\n",
    "- typically realized as an applicatio program, but operating systems and device drivers are also software\n",
    "- is a sequence of instructions and decisions implemented in some programming language and translated to a form that can be executed or run on the computer\n",
    "- **programming is the act of desinging and implementing computer programs**\n",
    "\n",
    "------------------"
   ]
  },
  {
   "cell_type": "markdown",
   "id": "ce70f2bd-1519-4e56-b3a0-22080986d2ef",
   "metadata": {},
   "source": [
    "<center>Imagine you have a toolbox. Inside that toolbox, you have various tools like hammers, screwdrivers, and wrenches. Now, think of your computer as a toolbox too, but instead of physical tools, it has something called \"software.\" Software is like the set of instructions or programs that tell your computer what to do. Just like you use a hammer to drive a nail, your computer uses software to perform different tasks. It can be anything from the operating system (like Windows or macOS) that manages all the basic functions of your computer, to programs like web browsers, games, word processors, or photo editors that you use to get specific jobs done.</center>\n",
    "\n",
    "------------------"
   ]
  },
  {
   "cell_type": "markdown",
   "id": "7ef39a41-32dc-4462-93e2-ecc3597f0cf2",
   "metadata": {},
   "source": [
    "## Algorithms\n",
    "- a step by step descirption of how to solve a problem\n",
    "- for complex problems software developers write an algorithm before they attempt to write the program to implement the algorithm"
   ]
  },
  {
   "cell_type": "markdown",
   "id": "695d44a0-59f9-4205-8027-783d60170708",
   "metadata": {},
   "source": [
    "### The Python Language \n",
    "- python programs are executed by the python interpreter\n",
    "- the interpreter reads each line of code in a program and executes it\n",
    "\n",
    "### Python Programming Environment \n",
    "- using **integrated delveopment evrionment (IDE)**\n",
    "- using text editor "
   ]
  },
  {
   "cell_type": "markdown",
   "id": "657a212a-ac8a-4197-bad7-1bdfd0c6a408",
   "metadata": {},
   "source": [
    "<div style=\"text-align:center;\">\n",
    "    <img src=\"https://i.imgur.com/PJME67T_d.webp?maxwidth=760&fidelity=grand\" style=\"width:500px;height:300px;\"/>\n",
    "</div>\n",
    "\n",
    "---------------"
   ]
  },
  {
   "cell_type": "markdown",
   "id": "2d8f288a-e217-4551-b09d-4e40161b37c1",
   "metadata": {},
   "source": [
    "### <u>Python is a versatile language that can be used for a wide range of applications like:</u> \n",
    "- web development\n",
    "- data analysis\n",
    "- artificial intelligence\n",
    "- machine learning\n",
    "- scientific computing\n",
    "- automation\n",
    "- back-end development\n",
    "\n",
    "<u>Popular libraries include:</u>\n",
    "- NumPy and Pandas for data manipulation\n",
    "- TensorFlow and PyTorch for machine learning\n",
    "- Django and Flask for web development"
   ]
  },
  {
   "cell_type": "code",
   "execution_count": 1,
   "id": "2a7242ab-3a74-4e13-b70c-f56693757cf6",
   "metadata": {},
   "outputs": [
    {
     "name": "stdout",
     "output_type": "stream",
     "text": [
      "Hello World!\n"
     ]
    }
   ],
   "source": [
    "print(\"Hello World!\") # your first line of code in python! :)"
   ]
  }
 ],
 "metadata": {
  "kernelspec": {
   "display_name": "Python 3 (ipykernel)",
   "language": "python",
   "name": "python3"
  },
  "language_info": {
   "codemirror_mode": {
    "name": "ipython",
    "version": 3
   },
   "file_extension": ".py",
   "mimetype": "text/x-python",
   "name": "python",
   "nbconvert_exporter": "python",
   "pygments_lexer": "ipython3",
   "version": "3.12.1"
  }
 },
 "nbformat": 4,
 "nbformat_minor": 5
}
